{
 "cells": [
  {
   "cell_type": "code",
   "execution_count": 26,
   "metadata": {},
   "outputs": [],
   "source": [
    "import matplotlib.pyplot as plt\n",
    "from utils import patch_generator, supres_generator, Segmentation, class_generator, vectors_generator, write_to_shape\n",
    "from tqdm import tqdm\n",
    "# import copy\n",
    "\n",
    "tif_10m='demo/sent2020_10m.tif'\n",
    "tif_20m='demo/sent2020_20m.tif'\n",
    "s1tif_20m='demo/landusing18_20_1b.tif'\n",
    "# vectors=\"zip:///home/sgr/Загрузки/test_poly.zip\"\n",
    "vectors=\"zip://demo/test_poly.zip\"\n",
    "vectors=\"zip://demo/working_areas32635.zip\"\n",
    "\n",
    "init_params={'tif_10m':tif_10m,'tif_20m':tif_20m,'vectors':vectors,'s1tif_20m':s1tif_20m}"
   ]
  },
  {
   "cell_type": "code",
   "execution_count": null,
   "metadata": {},
   "outputs": [],
   "source": [
    "items.sort(key=(lambda it: it['patch_10'].shape[1]*it['patch_10'].shape[2]))"
   ]
  },
  {
   "cell_type": "code",
   "execution_count": 13,
   "metadata": {},
   "outputs": [],
   "source": []
  },
  {
   "cell_type": "code",
   "execution_count": 27,
   "metadata": {},
   "outputs": [
    {
     "name": "stderr",
     "output_type": "stream",
     "text": [
      "31334it [00:35, 873.09it/s] \n"
     ]
    }
   ],
   "source": [
    "nit=0\n",
    "next_item=patch_generator(init_params)\n",
    "items=[]\n",
    "for i in tqdm(next_item):\n",
    "    nit+=1\n",
    "    items.append(i)"
   ]
  },
  {
   "cell_type": "code",
   "execution_count": null,
   "metadata": {},
   "outputs": [
    {
     "name": "stderr",
     "output_type": "stream",
     "text": [
      "  6%|▌         | 1743/31334 [06:14<1:19:52,  6.17it/s]"
     ]
    }
   ],
   "source": [
    "next_super=supres_generator(items)\n",
    "super_items=[]\n",
    "for i in tqdm(range(nit)):\n",
    "    super_items.append(next(next_super))"
   ]
  },
  {
   "cell_type": "code",
   "execution_count": 20,
   "metadata": {},
   "outputs": [
    {
     "name": "stderr",
     "output_type": "stream",
     "text": [
      "  0%|          | 0/14 [00:00<?, ?it/s]/home/sgr/Загрузки/PIKVNZ/model/COBresolve.py:105: RuntimeWarning: invalid value encountered in true_divide\n",
      "  O=(np.sum(ab*w1w2,axis=0)/np.sum((ab>0)*w1w2,axis=0)*((ind1*ind2==0)+(abs(ind1-ind2)==1))-1)*np.pi/numClusters\n",
      "100%|██████████| 14/14 [00:08<00:00,  1.59it/s]\n"
     ]
    }
   ],
   "source": [
    "segm_class=Segmentation(line_thresh=0.002,area_thresh=96)\n",
    "next_segment=segm_class.segm_map_generator(super_items)\n",
    "segment_items=[]\n",
    "for i in tqdm(range(nit)):\n",
    "    segment_items.append(next(next_segment))"
   ]
  },
  {
   "cell_type": "code",
   "execution_count": 21,
   "metadata": {},
   "outputs": [
    {
     "name": "stderr",
     "output_type": "stream",
     "text": [
      "  0%|          | 0/14 [00:00<?, ?it/s]/home/sgr/miniconda3/lib/python3.7/site-packages/sklearn/base.py:318: UserWarning: Trying to unpickle estimator DecisionTreeClassifier from version 0.23.2 when using version 0.22.1. This might lead to breaking code or invalid results. Use at your own risk.\n",
      "  UserWarning)\n",
      "/home/sgr/miniconda3/lib/python3.7/site-packages/sklearn/base.py:318: UserWarning: Trying to unpickle estimator RandomForestClassifier from version 0.23.2 when using version 0.22.1. This might lead to breaking code or invalid results. Use at your own risk.\n",
      "  UserWarning)\n",
      "100%|██████████| 14/14 [00:02<00:00,  6.52it/s]\n"
     ]
    }
   ],
   "source": [
    "next_classified=class_generator(segment_items)\n",
    "classified_items=[]\n",
    "for i in tqdm(range(nit)):\n",
    "    classified_items.append(next(next_classified))"
   ]
  },
  {
   "cell_type": "code",
   "execution_count": 22,
   "metadata": {},
   "outputs": [
    {
     "name": "stderr",
     "output_type": "stream",
     "text": [
      "100%|██████████| 14/14 [00:04<00:00,  3.42it/s]\n"
     ]
    }
   ],
   "source": [
    "next_vectorized=vectors_generator(classified_items)\n",
    "vectorized_items=[]\n",
    "for i in tqdm(range(nit)):\n",
    "    vectorized_items.append(next(next_vectorized))"
   ]
  },
  {
   "cell_type": "code",
   "execution_count": 23,
   "metadata": {},
   "outputs": [],
   "source": [
    "write_to_shape(vectorized_items, 'trash1.shp')"
   ]
  },
  {
   "cell_type": "code",
   "execution_count": null,
   "metadata": {},
   "outputs": [],
   "source": []
  },
  {
   "cell_type": "code",
   "execution_count": null,
   "metadata": {},
   "outputs": [],
   "source": []
  },
  {
   "cell_type": "code",
   "execution_count": 5,
   "metadata": {},
   "outputs": [],
   "source": [
    "# segm_class=Segmentation(line_thresh=0.02,area_thresh=16)\n",
    "# segm_class=Segmentation(line_thresh=0.005,area_thresh=48)\n",
    "segm_class=Segmentation(line_thresh=0.002,area_thresh=96)\n",
    "next_segment=segm_class.segm_map_generator(super_items)\n",
    "segment_items=[]\n",
    "for i in range(14):\n",
    "    segment_items.append(next(next_segment))"
   ]
  },
  {
   "cell_type": "markdown",
   "metadata": {},
   "source": [
    "WARNING:tensorflow:5 out of the last 5 calls to <function _make_execution_function.<locals>.distributed_function at 0x0000012E060F5B88> triggered tf.function retracing. Tracing is expensive and the excessive number of tracings is likely due to passing python objects instead of tensors. Also, tf.function has experimental_relax_shapes=True option that relaxes argument shapes that can avoid unnecessary retracing. Please refer to https://www.tensorflow.org/tutorials/customization/performance#python_or_tensor_args and https://www.tensorflow.org/api_docs/python/tf/function for more details."
   ]
  },
  {
   "cell_type": "code",
   "execution_count": 11,
   "metadata": {},
   "outputs": [],
   "source": []
  },
  {
   "cell_type": "code",
   "execution_count": 13,
   "metadata": {},
   "outputs": [],
   "source": []
  },
  {
   "cell_type": "code",
   "execution_count": null,
   "metadata": {},
   "outputs": [],
   "source": [
    "from skimage.segmentation import mark_boundaries"
   ]
  },
  {
   "cell_type": "code",
   "execution_count": 8,
   "metadata": {},
   "outputs": [
    {
     "name": "stdout",
     "output_type": "stream",
     "text": [
      "[4]\n"
     ]
    },
    {
     "name": "stderr",
     "output_type": "stream",
     "text": [
      "/home/sgr/miniconda3/lib/python3.7/site-packages/sklearn/base.py:318: UserWarning: Trying to unpickle estimator DecisionTreeClassifier from version 0.23.2 when using version 0.22.1. This might lead to breaking code or invalid results. Use at your own risk.\n",
      "  UserWarning)\n",
      "/home/sgr/miniconda3/lib/python3.7/site-packages/sklearn/base.py:318: UserWarning: Trying to unpickle estimator RandomForestClassifier from version 0.23.2 when using version 0.22.1. This might lead to breaking code or invalid results. Use at your own risk.\n",
      "  UserWarning)\n"
     ]
    }
   ],
   "source": [
    "import pickle\n",
    "rf_model_path='./model/RF_model.pkl'\n",
    "with open(rf_model_path, 'rb') as f:\n",
    "    clf=pickle.load(f)\n",
    "    print(clf.predict([[0,0,10,30,20,40,80,60,80,100]]))"
   ]
  },
  {
   "cell_type": "code",
   "execution_count": null,
   "metadata": {},
   "outputs": [],
   "source": []
  },
  {
   "cell_type": "code",
   "execution_count": 9,
   "metadata": {
    "collapsed": true,
    "jupyter": {
     "outputs_hidden": true,
     "source_hidden": true
    }
   },
   "outputs": [
    {
     "data": {
      "application/vnd.jupyter.widget-view+json": {
       "model_id": "78b093d0e3884491b00087ca3d98ef1f",
       "version_major": 2,
       "version_minor": 0
      },
      "text/plain": [
       "interactive(children=(IntSlider(value=6, description='numb', max=13), Output()), _dom_classes=('widget-interac…"
      ]
     },
     "metadata": {},
     "output_type": "display_data"
    },
    {
     "data": {
      "image/png": "[encoded data removed]",
      "text/plain": [
       "<Figure size 1800x1440 with 1 Axes>"
      ]
     },
     "metadata": {
      "needs_background": "light"
     },
     "output_type": "display_data"
    }
   ],
   "source": [
    "import numpy as np\n",
    "import scipy\n",
    "nm=10\n",
    "param_dict=segment_items[nm]\n",
    "\n",
    "def simple_rescale(im, scf=2):\n",
    "    import numpy as np\n",
    "    row,col=im.shape[0],im.shape[1]\n",
    "    return np.array([[im[int(r/scf)][int(c/scf)] for c in range(col*scf)] for r in range(row*scf)])\n",
    "\n",
    "import ipywidgets as widgets\n",
    "from ipywidgets import interact, interact_manual\n",
    "@interact\n",
    "def get_by_num(numb=(0,len(segment_items)-1,1)):#numb=range(14)):\n",
    "    \n",
    "    nm=int(numb)\n",
    "    param_dict=segment_items[nm]\n",
    "    segm=param_dict['segments_5']\n",
    "    transf_10=param_dict['transf_10']\n",
    "    transf_20=param_dict['transf_20']\n",
    "    patch_10=np.rollaxis(param_dict['patch_10'],0,3)\n",
    "    patch_20=np.rollaxis(param_dict['patch_20'],0,3)\n",
    "    patchs1_20=param_dict['patchs1_20']\n",
    "\n",
    "\n",
    "    x10,y10,_=patch_10.shape\n",
    "    y_sh,x_sh=np.abs(np.array([transf_10,transf_20]).T.dot(np.array([-1,1]))[[2,5]]/10).astype(int)\n",
    "    patch_20to10=simple_rescale(patch_20)[x_sh:x_sh+x10,y_sh:y_sh+y10,:]\n",
    "    feat_image=simple_rescale(np.concatenate((patch_10, patch_20to10), axis=2))\n",
    "\n",
    "\n",
    "    patchs1_20to10=simple_rescale(patchs1_20)[x_sh:x_sh+x10,y_sh:y_sh+y10]\n",
    "    patchs1_5=simple_rescale(patchs1_20to10)    #sent1 5m patch\n",
    "\n",
    "    remap={}\n",
    "    for index in np.unique(segm.ravel()):\n",
    "        if index==0: continue        \n",
    "        nm_pix=len(segm[segm==index])//4\n",
    "    #     nm_samples=np.ceil((np.log(nm_pix)/np.log(2))**1.6).astype(int) \n",
    "        nm_samples=nm_pix\n",
    "\n",
    "        id_choises=np.random.choice(range(nm_pix),nm_samples,replace=False)    \n",
    "#         is_candidate=(patchs1_5[segm==index].mean()+0.71).astype(int)\n",
    "        is_candidate=(patchs1_5[segm==index].mean()+0.51).astype(int)\n",
    "    #     is_candidate=(patchs1_5[segm==index][id_choises].mean()+0.6).astype(int)\n",
    "        if not is_candidate:\n",
    "            remap[index]=0\n",
    "            continue   \n",
    "\n",
    "    #     featured_items=feat_image[segm==index][id_choises]\n",
    "        featured_items=feat_image[segm==index]\n",
    "        cl=scipy.stats.mode(sorted(clf.predict(featured_items))).mode[0]\n",
    "        remap[index]=cl\n",
    "    src, values = remap.keys(), remap.values()\n",
    "    d_array = np.arange(segm.max() + 1)\n",
    "    d_array[list(src)] = list(values)\n",
    "    class_image=d_array[segm]  \n",
    "\n",
    "    from matplotlib.colors import LinearSegmentedColormap\n",
    "    colors = [(0, 0, 0), (0.5,0.5,0.5), (0.5, 0, 0),(0, 0.5, 0), (0, 0, 0.5)]  # R -> G -> B\n",
    "    n_bins = 5  # Discretizes the interpolation into bins\n",
    "    cmap_name = 'my_list'\n",
    "    cm = LinearSegmentedColormap.from_list(cmap_name, colors, N=n_bins)\n",
    "\n",
    "\n",
    "\n",
    "    plt.figure(figsize=(25,20))\n",
    "    plt.subplot(1,3,1)\n",
    "    plt.imshow(mark_boundaries(param_dict['rgb_5'], segm))\n",
    "    plt.subplot(1,3,2)\n",
    "    class_image[segm==0]=-1\n",
    "    class_image[0,0]=1\n",
    "    class_image[0,0]=2\n",
    "    class_image[0,0]=3\n",
    "    class_image[0,0]=4      \n",
    "    \n",
    "    plt.imshow(class_image,cmap=cm)    \n",
    "    print(np.unique(class_image,return_counts=True))\n",
    "    plt.subplot(1,3,3)\n",
    "    x,y,b=feat_image.shape\n",
    "    pix_cl_masked=clf.predict(feat_image.reshape((x*y,b))).reshape((x,y))*(patchs1_5!=0)*(segm!=0)\n",
    "    pix_cl_masked[segm==0]=-1\n",
    "    \n",
    "    pix_cl_masked[0,0]=1\n",
    "    pix_cl_masked[0,0]=2\n",
    "    pix_cl_masked[0,0]=3\n",
    "    pix_cl_masked[0,0]=4    \n",
    "    plt.imshow(pix_cl_masked,cmap=cm)\n",
    "    \n",
    "    \n",
    "    \n",
    "    \n",
    "    \n",
    "    \n",
    "    return class_image\n",
    "\n"
   ]
  },
  {
   "cell_type": "code",
   "execution_count": 9,
   "metadata": {},
   "outputs": [],
   "source": [
    "# def get_maj(arr):\n",
    "#     index, cnt=np.unique(arr,return_counts=True)\n",
    "#     if len(index)==1: \n",
    "#         return index\n",
    "#     else: \n",
    "#         hh=[(ind,cn) for ind,cn in zip(index, cnt)]\n",
    "#         hh.sort(key=lambda x: x[1],reverse=True)\n",
    "#         for key, val in hh:\n",
    "#             if key>-1: return key\n",
    "\n",
    "def simple_rescale(im, scf=2):\n",
    "    import numpy as np\n",
    "    class_generator\n",
    "    row,col=im.shape[0],im.shape[1]\n",
    "    return np.array([[im[int(r/scf)][int(c/scf)] for c in range(col*scf)] for r in range(row*scf)])\n",
    "\n",
    "def nearest_ind(ind_neig,ind_cand):\n",
    "    import numpy as np\n",
    "    class_generator\n",
    "    Xn=ind_neig[:,0]\n",
    "    Yn=ind_neig[:,1]\n",
    "    Xc=ind_cand[:,0]\n",
    "    Yc=ind_cand[:,1]\n",
    "    Xn=np.stack([-np.ones_like(Xn),Xn])\n",
    "    Xc=np.stack([Xc, np.ones_like(Xc)])\n",
    "    Xdist=Xn.T.dot(Xc)    \n",
    "    Yn=np.stack([-np.ones_like(Yn),Yn])\n",
    "    Yc=np.stack([Yc, np.ones_like(Yc)])\n",
    "    Ydist=Yn.T.dot(Yc) \n",
    "    return np.argmin((Xdist**2+Ydist**2),axis=0)\n",
    "\n",
    "def expand_im(im, mask_val=-1):\n",
    "    import numpy as np\n",
    "    from scipy.ndimage import binary_erosion\n",
    "    mask=np.copy(im)\n",
    "    mask[mask!=mask_val]=1\n",
    "    mask[mask==mask_val]=0\n",
    "    neig_mask=binary_erosion(mask)-mask\n",
    "    indarr=np.indices(mask.shape)\n",
    "\n",
    "    XYn=np.rollaxis(indarr,0,3)[neig_mask==-1]\n",
    "    XYc=np.rollaxis(indarr,0,3)[mask==0]\n",
    "\n",
    "    gg=nearest_ind(XYn,XYc)\n",
    "    ccl=np.copy(im)\n",
    "    ccl[XYc[:,0],XYc[:,1]]=ccl[XYn[gg][:,0],XYn[gg][:,1]]\n",
    "    return ccl   "
   ]
  },
  {
   "cell_type": "code",
   "execution_count": 10,
   "metadata": {
    "jupyter": {
     "source_hidden": true
    }
   },
   "outputs": [],
   "source": [
    "def class_generator(list_of_param_dict, rf_model_path='./model/RF_model.pkl'):\n",
    "    import pickle\n",
    "    \n",
    "    import numpy as np\n",
    "    import scipy\n",
    "    \n",
    "    with open(rf_model_path, 'rb') as f:\n",
    "        clf=pickle.load(f)\n",
    "    \n",
    "    \n",
    "    for param_dict in list_of_param_dict:        \n",
    "        segm=param_dict['segments_5']\n",
    "        transf_10=param_dict['transf_10']\n",
    "        transf_20=param_dict['transf_20']\n",
    "        patch_10=np.rollaxis(param_dict['patch_10'],0,3)\n",
    "        patch_20=np.rollaxis(param_dict['patch_20'],0,3)\n",
    "        patchs1_20=param_dict['patchs1_20']\n",
    "\n",
    "\n",
    "        x10,y10,_=patch_10.shape\n",
    "        y_sh,x_sh=np.abs(np.array([transf_10,transf_20]).T.dot(np.array([-1,1]))[[2,5]]/10).astype(int)\n",
    "        patch_20to10=simple_rescale(patch_20)[x_sh:x_sh+x10,y_sh:y_sh+y10,:]\n",
    "        feat_image=simple_rescale(np.concatenate((patch_10, patch_20to10), axis=2))\n",
    "\n",
    "\n",
    "        patchs1_20to10=simple_rescale(patchs1_20)[x_sh:x_sh+x10,y_sh:y_sh+y10]\n",
    "        patchs1_5=simple_rescale(patchs1_20to10)    #sent1 5m patch\n",
    "\n",
    "        remap={}\n",
    "        for index in np.unique(segm.ravel()):\n",
    "            if index==0: continue        \n",
    "            nm_pix=len(segm[segm==index])//4\n",
    "        #     nm_samples=np.ceil((np.log(nm_pix)/np.log(2))**1.6).astype(int) \n",
    "            nm_samples=nm_pix\n",
    "            id_choises=np.random.choice(range(nm_pix),nm_samples,replace=False)    \n",
    "    #         is_candidate=(patchs1_5[segm==index].mean()+0.71).astype(int)\n",
    "            is_candidate=(patchs1_5[segm==index].mean()+0.51).astype(int)\n",
    "        #     is_candidate=(patchs1_5[segm==index][id_choises].mean()+0.6).astype(int)\n",
    "            if not is_candidate:\n",
    "                remap[index]=0\n",
    "                continue   \n",
    "\n",
    "        #     featured_items=feat_image[segm==index][id_choises]\n",
    "            featured_items=feat_image[segm==index]\n",
    "            cl=scipy.stats.mode(sorted(clf.predict(featured_items))).mode[0]\n",
    "            remap[index]=cl\n",
    "        src, values = remap.keys(), remap.values()\n",
    "        d_array = np.arange(segm.max() + 1)\n",
    "        d_array[list(src)] = list(values)\n",
    "        class_image=d_array[segm]     \n",
    "        class_image[segm==0]=-1   \n",
    "        param_dict['classes']=class_image\n",
    "        yield param_dict\n",
    "\n",
    "\n",
    "from shapely.geometry import shape\n",
    "from scipy import ndimage\n",
    "import rasterio\n",
    "import shapely\n",
    "\n",
    "\n",
    "def vectors_generator(list_of_param_dict):\n",
    "    import copy\n",
    "    import numpy as np\n",
    "    for param_dict in list_of_param_dict:\n",
    "        cl1=expand_im(param_dict['classes']) \n",
    "        \n",
    "        inshp=dict(param_dict['geojson'])        \n",
    "        outline=shape(inshp['geometry'])        \n",
    "        \n",
    "        trans=np.array(param_dict['transf_5']).reshape((2,3))\n",
    "\n",
    "        mypoly=[]\n",
    "\n",
    "        for vec in rasterio.features.shapes(cl1.astype('int16')):\n",
    "            multpl=vec[0]['coordinates']\n",
    "            for i in range(len(multpl)):\n",
    "                poly=multpl[i]\n",
    "                poly=[tuple(trans.dot([x,y,1])) for x,y in poly]\n",
    "                vec[0]['coordinates'][i]=poly\n",
    "            shp=shape(vec[0])        \n",
    "            shp=shp.intersection(outline)\n",
    "\n",
    "            if shp.geom_type in['MultiPolygon','GeometryCollection']:\n",
    "                if len(shp)==0: continue\n",
    "                shps=[pol for pol in shp]\n",
    "            else: shps=[shp]\n",
    "            for shp in shps:\n",
    "                outshp=copy.deepcopy(dict(inshp))\n",
    "                outshp['properties']['class']=int(vec[1])\n",
    "#                 prop= copy.deepcopy(inshp['properties'])    \n",
    "#                 prop['class']=int(vec[1])\n",
    "                \n",
    "                outshp['geometry']= shapely.geometry.mapping(shp)\n",
    "#                 outshp['properties']=prop\n",
    "                mypoly.append(outshp) \n",
    "\n",
    "        param_dict['classed_geojson']=mypoly\n",
    "        yield param_dict"
   ]
  },
  {
   "cell_type": "code",
   "execution_count": 16,
   "metadata": {
    "jupyter": {
     "source_hidden": true
    }
   },
   "outputs": [
    {
     "data": {
      "application/vnd.jupyter.widget-view+json": {
       "model_id": "d3015ea1503f47c88eae19ec89089e70",
       "version_major": 2,
       "version_minor": 0
      },
      "text/plain": [
       "interactive(children=(IntSlider(value=6, description='nm', max=13), Output()), _dom_classes=('widget-interact'…"
      ]
     },
     "metadata": {},
     "output_type": "display_data"
    }
   ],
   "source": [
    "def get_by_num0(numb):\n",
    "    nm=int(numb)\n",
    "    param_dict=segment_items[nm]\n",
    "    segm=param_dict['segments_5']\n",
    "    transf_10=param_dict['transf_10']\n",
    "    transf_20=param_dict['transf_20']\n",
    "    patch_10=np.rollaxis(param_dict['patch_10'],0,3)\n",
    "    patch_20=np.rollaxis(param_dict['patch_20'],0,3)\n",
    "    patchs1_20=param_dict['patchs1_20']\n",
    "\n",
    "\n",
    "    x10,y10,_=patch_10.shape\n",
    "    y_sh,x_sh=np.abs(np.array([transf_10,transf_20]).T.dot(np.array([-1,1]))[[2,5]]/10).astype(int)\n",
    "    patch_20to10=simple_rescale(patch_20)[x_sh:x_sh+x10,y_sh:y_sh+y10,:]\n",
    "    feat_image=simple_rescale(np.concatenate((patch_10, patch_20to10), axis=2))\n",
    "\n",
    "\n",
    "    patchs1_20to10=simple_rescale(patchs1_20)[x_sh:x_sh+x10,y_sh:y_sh+y10]\n",
    "    patchs1_5=simple_rescale(patchs1_20to10)    #sent1 5m patch\n",
    "\n",
    "    remap={}\n",
    "    for index in np.unique(segm.ravel()):\n",
    "        if index==0: continue        \n",
    "        nm_pix=len(segm[segm==index])//4\n",
    "    #     nm_samples=np.ceil((np.log(nm_pix)/np.log(2))**1.6).astype(int) \n",
    "        nm_samples=nm_pix\n",
    "\n",
    "        id_choises=np.random.choice(range(nm_pix),nm_samples,replace=False)    \n",
    "#         is_candidate=(patchs1_5[segm==index].mean()+0.71).astype(int)\n",
    "        is_candidate=(patchs1_5[segm==index].mean()+0.51).astype(int)\n",
    "    #     is_candidate=(patchs1_5[segm==index][id_choises].mean()+0.6).astype(int)\n",
    "        if not is_candidate:\n",
    "            remap[index]=0\n",
    "            continue   \n",
    "\n",
    "    #     featured_items=feat_image[segm==index][id_choises]\n",
    "        featured_items=feat_image[segm==index]\n",
    "        cl=scipy.stats.mode(sorted(clf.predict(featured_items))).mode[0]\n",
    "        remap[index]=cl\n",
    "    src, values = remap.keys(), remap.values()\n",
    "    d_array = np.arange(segm.max() + 1)\n",
    "    d_array[list(src)] = list(values)\n",
    "    class_image=d_array[segm]     \n",
    "    class_image[segm==0]=-1\n",
    "#     class_image[0,0]=1\n",
    "#     class_image[0,1]=2\n",
    "#     class_image[0,2]=3\n",
    "#     class_image[0,3]=4 \n",
    "    \n",
    "    \n",
    "    return class_image\n",
    "\n",
    "def class_generator(list_of_param_dict):\n",
    "    for param_dict in list_of_param_dict:        \n",
    "        segm=param_dict['segments_5']\n",
    "        transf_10=param_dict['transf_10']\n",
    "        transf_20=param_dict['transf_20']\n",
    "        patch_10=np.rollaxis(param_dict['patch_10'],0,3)\n",
    "        patch_20=np.rollaxis(param_dict['patch_20'],0,3)\n",
    "        patchs1_20=param_dict['patchs1_20']\n",
    "\n",
    "\n",
    "        x10,y10,_=patch_10.shape\n",
    "        y_sh,x_sh=np.abs(np.array([transf_10,transf_20]).T.dot(np.array([-1,1]))[[2,5]]/10).astype(int)\n",
    "        patch_20to10=simple_rescale(patch_20)[x_sh:x_sh+x10,y_sh:y_sh+y10,:]\n",
    "        feat_image=simple_rescale(np.concatenate((patch_10, patch_20to10), axis=2))\n",
    "\n",
    "\n",
    "        patchs1_20to10=simple_rescale(patchs1_20)[x_sh:x_sh+x10,y_sh:y_sh+y10]\n",
    "        patchs1_5=simple_rescale(patchs1_20to10)    #sent1 5m patch\n",
    "\n",
    "        remap={}\n",
    "        for index in np.unique(segm.ravel()):\n",
    "            if index==0: continue        \n",
    "            nm_pix=len(segm[segm==index])//4\n",
    "        #     nm_samples=np.ceil((np.log(nm_pix)/np.log(2))**1.6).astype(int) \n",
    "            nm_samples=nm_pix\n",
    "            id_choises=np.random.choice(range(nm_pix),nm_samples,replace=False)    \n",
    "    #         is_candidate=(patchs1_5[segm==index].mean()+0.71).astype(int)\n",
    "            is_candidate=(patchs1_5[segm==index].mean()+0.51).astype(int)\n",
    "        #     is_candidate=(patchs1_5[segm==index][id_choises].mean()+0.6).astype(int)\n",
    "            if not is_candidate:\n",
    "                remap[index]=0\n",
    "                continue   \n",
    "\n",
    "        #     featured_items=feat_image[segm==index][id_choises]\n",
    "            featured_items=feat_image[segm==index]\n",
    "            cl=scipy.stats.mode(sorted(clf.predict(featured_items))).mode[0]\n",
    "            remap[index]=cl\n",
    "        src, values = remap.keys(), remap.values()\n",
    "        d_array = np.arange(segm.max() + 1)\n",
    "        d_array[list(src)] = list(values)\n",
    "        class_image=d_array[segm]     \n",
    "        class_image[segm==0]=-1   \n",
    "        param_dict['classes']=class_image\n",
    "        yield param_dict\n",
    "\n",
    "\n",
    "from shapely.geometry import shape\n",
    "from scipy import ndimage\n",
    "import rasterio\n",
    "import shapely\n",
    "\n",
    "\n",
    "def vectors_generator(list_of_param_dict):\n",
    "    import copy\n",
    "    for param_dict in list_of_param_dict:\n",
    "        cl1=expand_im(param_dict['classes']) \n",
    "        \n",
    "        outshp=dict(param_dict['geojson'])        \n",
    "        outline=shape(outshp['geometry'])        \n",
    "        \n",
    "        trans=np.array(param_dict['transf_5']).reshape((2,3))\n",
    "\n",
    "        mypoly=[]\n",
    "\n",
    "        for vec in rasterio.features.shapes(cl1.astype('int16')):\n",
    "            multpl=vec[0]['coordinates']\n",
    "            for i in range(len(multpl)):\n",
    "                poly=multpl[i]\n",
    "                poly=[tuple(trans.dot([x,y,1])) for x,y in poly]\n",
    "                vec[0]['coordinates'][i]=poly\n",
    "            shp=shape(vec[0])        \n",
    "            shp=shp.intersection(outline)\n",
    "\n",
    "            if shp.geom_type in['MultiPolygon','GeometryCollection']:\n",
    "                if len(shp)==0: continue\n",
    "                shps=[pol for pol in shp]\n",
    "            else: shps=[shp]\n",
    "            for shp in shps:\n",
    "#                 outshp=dict(param_dict['geojson'])\n",
    "                prop= copy.deepcopy(outshp['properties'])    \n",
    "                prop['class']=int(vec[1])\n",
    "                outshp['geometry']= shapely.geometry.mapping(shp)\n",
    "                outshp['properties']=prop\n",
    "                mypoly.append(outshp) \n",
    "\n",
    "        param_dict['classed_geojson']=mypoly\n",
    "        yield param_dict\n",
    "\n",
    "\n",
    "\n",
    "\n",
    "\n",
    "@interact\n",
    "def rr(nm=(0,len(segment_items)-1,1)):\n",
    "\n",
    "# nm=3\n",
    "    cl=get_by_num0(nm)\n",
    "\n",
    "    \n",
    "    cl1=expand_im(cl)\n",
    "    \n",
    "#     cl1=ndimage.generic_filter(cl,get_maj,3)\n",
    "#     cl1=ndimage.generic_filter(cl1,get_maj,3)\n",
    "\n",
    "    outline=shape(segment_items[nm]['geojson']['geometry'])\n",
    "    trans=np.array(segment_items[nm]['transf_5']).reshape((2,3))\n",
    "\n",
    "    mypoly=[]\n",
    "    mpl=[]\n",
    "\n",
    "    import copy\n",
    "    # import collections\n",
    "\n",
    "    for vec in rasterio.features.shapes(cl1.astype('int16')):\n",
    "        multpl=vec[0]['coordinates']\n",
    "        for i in range(len(multpl)):\n",
    "            poly=multpl[i]\n",
    "            poly=[tuple(trans.dot([x,y,1])) for x,y in poly]\n",
    "\n",
    "            vec[0]['coordinates'][i]=poly\n",
    "\n",
    "        shp=shape(vec[0])        \n",
    "        shp=shp.intersection(outline)\n",
    "        \n",
    "#         mpl.append(shp)\n",
    "\n",
    "    #         if shp.geom_type =='Polygon': \n",
    "\n",
    "        if shp.geom_type in['MultiPolygon','GeometryCollection']:\n",
    "            if len(shp)==0: continue\n",
    "            shps=[pol for pol in shp]\n",
    "        else: shps=[shp]\n",
    "#             area=[pol.area  for pol in  shp]\n",
    "#             shp=shp[np.argmax(area)]\n",
    "        for shp in shps:\n",
    "            outshp=dict(segment_items[nm]['geojson'])\n",
    "            prop= copy.deepcopy(outshp['properties'])    \n",
    "            prop['class']=int(vec[1])\n",
    "            outshp['geometry']= shapely.geometry.mapping(shp)\n",
    "            outshp['properties']=prop\n",
    "\n",
    "            mypoly.append(outshp) \n",
    "\n",
    "\n",
    "#     colr={-1:'k',0:'#555555',1:'g',2:'c',3:'b',4:'r'}\n",
    "\n",
    "    colr={ 0:'#8B4513',\\\n",
    "        1: '#ADFF2F',\\\n",
    "        2: '#32CD32',\\\n",
    "        3: '#006400',\\\n",
    "        4: '#113300'}\n",
    "#     5: '#774422'}\n",
    "    \n",
    "    \n",
    "    # pol=mypoly[4]\n",
    "    plt.figure(figsize=(18,10))\n",
    "    plt.axis('equal')\n",
    "    plt.subplot(1,2,1)\n",
    "    for pol in mypoly:\n",
    "        geom=shape(pol['geometry'])\n",
    "        col=int(pol['properties']['class'])        \n",
    "        plt.fill(*geom.exterior.xy,color=colr[col])\n",
    "        for i in geom.interiors:\n",
    "            plt.fill(*i.xy,'w')\n",
    "    plt.axis('equal')\n",
    "    plt.subplot(1,2,2)\n",
    "    plt.imshow(cl)\n",
    "\n"
   ]
  },
  {
   "cell_type": "markdown",
   "metadata": {},
   "source": [
    "# МУЛЬТИПОЛИГОННОСТЬ И ДЫРЯВОСТЬ!!! (3,8 номер)"
   ]
  },
  {
   "cell_type": "code",
   "execution_count": 286,
   "metadata": {},
   "outputs": [
    {
     "data": {
      "image/png": "[encoded data removed]",
      "text/plain": [
       "<Figure size 432x288 with 1 Axes>"
      ]
     },
     "metadata": {
      "needs_background": "light"
     },
     "output_type": "display_data"
    }
   ],
   "source": [
    "colr={ 0:'#8B4513',\\\n",
    "        1: '#ADFF2F',\\\n",
    "        2: '#32CD32',\\\n",
    "        3: '#006400',\\\n",
    "        4: '#113300'}\n",
    "bx,by=np.array([[0,0,1,1,0],[0,1,1,0,0]])\n",
    "\n",
    "for ind in range(5):\n",
    "    plt.fill(bx,by+ind,color=colr[4-ind])\n",
    "#     plt.fill(bx,by+1,color=colr[1])"
   ]
  },
  {
   "cell_type": "code",
   "execution_count": 382,
   "metadata": {},
   "outputs": [],
   "source": [
    "with fiona.open('test_uk.shp', 'w',**uu.meta) as sink:\n",
    "    for f in polygs:    \n",
    "        sink.write(f)"
   ]
  },
  {
   "cell_type": "code",
   "execution_count": null,
   "metadata": {},
   "outputs": [],
   "source": []
  },
  {
   "cell_type": "code",
   "execution_count": null,
   "metadata": {},
   "outputs": [],
   "source": []
  },
  {
   "cell_type": "code",
   "execution_count": 380,
   "metadata": {},
   "outputs": [
    {
     "data": {
      "image/svg+xml": [
       "<svg xmlns=\"http://www.w3.org/2000/svg\" xmlns:xlink=\"http://www.w3.org/1999/xlink\" width=\"300\" height=\"300\" viewBox=\"628828.9704235675 6152529.704562345 1002.2262777782744 1004.9556375974789\" preserveAspectRatio=\"xMinYMin meet\"><g transform=\"matrix(1,0,0,-1,0,12306064.364762288)\"><path fill-rule=\"evenodd\" fill=\"#66cc99\" stroke=\"#555555\" stroke-width=\"6.69970425064986\" opacity=\"0.6\" d=\"M 629793.9761221755,6152966.453269968 L 629730.076651508,6152801.577358018 L 629448.9027233837,6152570.2319199685 L 629309.191897661,6152643.322261887 L 629191.0799691865,6152566.925141515 L 628866.1910027377,6152651.73983489 L 628980.9303924331,6153135.484294177 L 628991.6722755001,6153208.70940454 L 628999.7684438117,6153371.916966164 L 629039.0557391605,6153497.439620771 L 629426.9111726651,6153315.8764945 L 629531.9959714529,6153250.357718901 L 629793.9761221755,6152966.453269968 z\" /></g></svg>"
      ],
      "text/plain": [
       "<shapely.geometry.polygon.Polygon at 0x7f093f873908>"
      ]
     },
     "execution_count": 380,
     "metadata": {},
     "output_type": "execute_result"
    }
   ],
   "source": [
    "shape(vectorized_items[5]['classed_geojson'][0]['geometry'])"
   ]
  },
  {
   "cell_type": "code",
   "execution_count": 365,
   "metadata": {},
   "outputs": [
    {
     "data": {
      "image/svg+xml": [
       "<svg xmlns=\"http://www.w3.org/2000/svg\" xmlns:xlink=\"http://www.w3.org/1999/xlink\" width=\"300\" height=\"300\" viewBox=\"727285.2482639997 6151064.481864 575.5126719998661 1248.6240720003843\" preserveAspectRatio=\"xMinYMin meet\"><g transform=\"matrix(1,0,0,-1,0,12303377.5878)\"><path fill-rule=\"evenodd\" fill=\"#66cc99\" stroke=\"#555555\" stroke-width=\"8.324160480002563\" opacity=\"0.6\" d=\"M 727519.0338758396,6151875.0 L 727520.0,6151875.0 L 727525.0,6151875.0 L 727525.0,6151880.0 L 727530.0,6151880.0 L 727530.0,6151910.0 L 727525.0,6151910.0 L 727525.0,6151920.0 L 727520.0,6151920.0 L 727520.0,6151945.0 L 727525.0,6151945.0 L 727525.0,6151955.0 L 727530.0,6151955.0 L 727530.0,6151970.0 L 727535.0,6151970.0 L 727535.0,6151990.0 L 727540.0,6151990.0 L 727540.0,6152000.0 L 727545.0,6152000.0 L 727545.0,6152005.0 L 727550.0,6152005.0 L 727550.0,6152020.0 L 727555.0,6152020.0 L 727555.0,6152065.0 L 727560.0,6152065.0 L 727560.0,6152080.0 L 727565.0,6152080.0 L 727565.0,6152085.0 L 727570.0,6152085.0 L 727570.0,6152095.0 L 727575.0,6152095.0 L 727575.0,6152110.0 L 727580.0,6152110.0 L 727580.0,6152120.0 L 727585.0,6152120.0 L 727585.0,6152125.0 L 727590.0,6152125.0 L 727590.0,6152135.0 L 727595.0,6152135.0 L 727595.0,6152150.0 L 727550.0,6152150.0 L 727550.0,6152155.0 L 727545.0,6152155.0 L 727545.0,6152160.0 L 727540.0,6152160.0 L 727540.0,6152165.0 L 727505.0,6152165.0 L 727505.0,6152160.0 L 727490.0,6152160.0 L 727490.0,6152205.0 L 727475.0,6152205.0 L 727475.0,6152210.0 L 727470.0,6152210.0 L 727470.0,6152211.491274351 L 727489.4883000003,6152215.3138 L 727539.8923000004,6152241.332800001 L 727548.3402000004,6152245.693700001 L 727596.3624999998,6152266.8606 L 727615.4598000003,6152264.613399999 L 727624.2225000001,6152258.6689 L 727626.4616999999,6152257.149800001 L 727642.6106000002,6152246.194499999 L 727663.0687999995,6152232.3158 L 727699.0796999997,6152207.886299999 L 727720.5031000003,6152183.703299999 L 727729.1041000001,6152171.504799999 L 727734.1880000001,6152137.912599999 L 727754.6009,6152104.2456 L 727793.6610000003,6152006.1534 L 727797.494,6152001.7335 L 727798.9473000001,6152000.057700001 L 727809.3846000005,6151988.022399999 L 727814.5155999996,6151974.145400001 L 727814.0761000002,6151954.411699999 L 727785.3230999997,6151879.2974 L 727734.6710000001,6151767.0525 L 727705.1851000004,6151713.841 L 727704.4101999998,6151712.4427000005 L 727702.9895000001,6151710.807499999 L 727674.4513999997,6151677.961200001 L 727646.3278000001,6151624.582 L 727623.2832000004,6151576.604900001 L 727604.1617999999,6151530.7546 L 727590.9358000001,6151477.2871 L 727584.6792000001,6151476.203 L 727551.4504000004,6151478.576199999 L 727539.7237,6151476.4453 L 727528.1404999997,6151454.6072 L 727529.2346000001,6151440.9175 L 727576.2889,6151388.9869 L 727603.5148999998,6151390.6896 L 727616.7586000003,6151380.176000001 L 727624.4094000002,6151370.2195 L 727632.0438999999,6151354.3717 L 727633.3356999997,6151343.0189 L 727625.4693999998,6151291.407400001 L 727595.0017999997,6151222.0283 L 727561.3250000002,6151140.704500001 L 727549.6224999996,6151114.755100001 L 727538.3322999999,6151110.7272 L 727536.5399000002,6151111.023499999 L 727531.9475999996,6151111.7827 L 727495.9959000004,6151117.726 L 727334.2928999998,6151449.5298999995 L 727346.0829999996,6151461.460999999 L 727347.869,6151463.2684 L 727359.3827,6151474.9198 L 727402.3652999997,6151497.4109000005 L 727407.2631999999,6151510.5057 L 727402.3651999999,6151519.1021 L 727381.0735999998,6151520.8013 L 727340.7729000002,6151513.920700001 L 727340.0900999997,6151513.804099999 L 727331.4935999997,6151521.200999999 L 727331.4935999997,6151521.7224 L 727331.4938000003,6151537.0945999995 L 727346.1875,6151561.684599999 L 727371.6771,6151594.2719 L 727397.1667,6151618.0623 L 727419.2578999996,6151628.258199999 L 727438.1502999999,6151641.3531 L 727443.8480000002,6151654.447699999 L 727443.7367626316,6151655.0 L 727445.0,6151655.0 L 727445.0,6151660.0 L 727450.0,6151660.0 L 727450.0,6151665.0 L 727455.0,6151665.0 L 727455.0,6151695.0 L 727460.0,6151695.0 L 727460.0,6151705.0 L 727465.0,6151705.0 L 727465.0,6151710.0 L 727470.0,6151710.0 L 727470.0,6151715.0 L 727475.0,6151715.0 L 727475.0,6151735.0 L 727480.0,6151735.0 L 727480.0,6151745.0 L 727485.0,6151745.0 L 727485.0,6151750.0 L 727490.0,6151750.0 L 727490.0,6151760.0 L 727495.0,6151760.0 L 727495.0,6151780.0 L 727500.0,6151780.0 L 727500.0,6151819.512285478 L 727500.5417,6151819.669600001 L 727503.1276000002,6151820.420600001 L 727512.7083999999,6151837.8839 L 727512.7154999999,6151837.912599999 L 727515.3552000001,6151848.5909 L 727520.8136,6151870.671399999 L 727519.0338758396,6151875.0 z\" /></g></svg>"
      ],
      "text/plain": [
       "<shapely.geometry.polygon.Polygon at 0x7f0940b02278>"
      ]
     },
     "execution_count": 365,
     "metadata": {},
     "output_type": "execute_result"
    }
   ],
   "source": [
    "shape(polygs[40]['geometry'])"
   ]
  },
  {
   "cell_type": "code",
   "execution_count": 381,
   "metadata": {},
   "outputs": [],
   "source": [
    "polygs=[item for dct in vectorized_items for item in dct['classed_geojson']]"
   ]
  },
  {
   "cell_type": "code",
   "execution_count": 351,
   "metadata": {},
   "outputs": [
    {
     "data": {
      "text/plain": [
       "{'driver': 'ESRI Shapefile',\n",
       " 'schema': {'properties': OrderedDict([('FID', 'int:10')]),\n",
       "  'geometry': 'Polygon'},\n",
       " 'crs': {'init': 'epsg:32635'},\n",
       " 'crs_wkt': 'PROJCS[\"WGS 84 / UTM zone 35N\",GEOGCS[\"WGS 84\",DATUM[\"WGS_1984\",SPHEROID[\"WGS 84\",6378137,298.257223563,AUTHORITY[\"EPSG\",\"7030\"]],AUTHORITY[\"EPSG\",\"6326\"]],PRIMEM[\"Greenwich\",0,AUTHORITY[\"EPSG\",\"8901\"]],UNIT[\"degree\",0.0174532925199433,AUTHORITY[\"EPSG\",\"9122\"]],AUTHORITY[\"EPSG\",\"4326\"]],PROJECTION[\"Transverse_Mercator\"],PARAMETER[\"latitude_of_origin\",0],PARAMETER[\"central_meridian\",27],PARAMETER[\"scale_factor\",0.9996],PARAMETER[\"false_easting\",500000],PARAMETER[\"false_northing\",0],UNIT[\"metre\",1,AUTHORITY[\"EPSG\",\"9001\"]],AXIS[\"Easting\",EAST],AXIS[\"Northing\",NORTH],AUTHORITY[\"EPSG\",\"32635\"]]'}"
      ]
     },
     "execution_count": 351,
     "metadata": {},
     "output_type": "execute_result"
    }
   ],
   "source": [
    "uu.meta"
   ]
  },
  {
   "cell_type": "code",
   "execution_count": null,
   "metadata": {},
   "outputs": [],
   "source": []
  },
  {
   "cell_type": "code",
   "execution_count": 353,
   "metadata": {},
   "outputs": [],
   "source": [
    "uu.meta['schema']['properties']['class']='int:10'"
   ]
  },
  {
   "cell_type": "code",
   "execution_count": 388,
   "metadata": {},
   "outputs": [
    {
     "data": {
      "text/plain": [
       "{'driver': 'ESRI Shapefile',\n",
       " 'schema': {'properties': OrderedDict([('FID', 'int:10'),\n",
       "               ('class', 'int:10')]),\n",
       "  'geometry': 'Polygon'},\n",
       " 'crs': {'init': 'epsg:32635'},\n",
       " 'crs_wkt': 'PROJCS[\"WGS 84 / UTM zone 35N\",GEOGCS[\"WGS 84\",DATUM[\"WGS_1984\",SPHEROID[\"WGS 84\",6378137,298.257223563,AUTHORITY[\"EPSG\",\"7030\"]],AUTHORITY[\"EPSG\",\"6326\"]],PRIMEM[\"Greenwich\",0,AUTHORITY[\"EPSG\",\"8901\"]],UNIT[\"degree\",0.0174532925199433,AUTHORITY[\"EPSG\",\"9122\"]],AUTHORITY[\"EPSG\",\"4326\"]],PROJECTION[\"Transverse_Mercator\"],PARAMETER[\"latitude_of_origin\",0],PARAMETER[\"central_meridian\",27],PARAMETER[\"scale_factor\",0.9996],PARAMETER[\"false_easting\",500000],PARAMETER[\"false_northing\",0],UNIT[\"metre\",1,AUTHORITY[\"EPSG\",\"9001\"]],AXIS[\"Easting\",EAST],AXIS[\"Northing\",NORTH],AUTHORITY[\"EPSG\",\"32635\"]]'}"
      ]
     },
     "execution_count": 388,
     "metadata": {},
     "output_type": "execute_result"
    }
   ],
   "source": [
    "uu.meta"
   ]
  },
  {
   "cell_type": "code",
   "execution_count": 355,
   "metadata": {
    "collapsed": true,
    "jupyter": {
     "outputs_hidden": true
    }
   },
   "outputs": [
    {
     "data": {
      "text/plain": [
       "{'type': 'Feature',\n",
       " 'id': '3',\n",
       " 'properties': OrderedDict([('FID', None), ('class', 0)]),\n",
       " 'geometry': {'type': 'Polygon',\n",
       "  'coordinates': (((727519.0338758396, 6151875.0),\n",
       "    (727520.0, 6151875.0),\n",
       "    (727525.0, 6151875.0),\n",
       "    (727525.0, 6151880.0),\n",
       "    (727530.0, 6151880.0),\n",
       "    (727530.0, 6151910.0),\n",
       "    (727525.0, 6151910.0),\n",
       "    (727525.0, 6151920.0),\n",
       "    (727520.0, 6151920.0),\n",
       "    (727520.0, 6151945.0),\n",
       "    (727525.0, 6151945.0),\n",
       "    (727525.0, 6151955.0),\n",
       "    (727530.0, 6151955.0),\n",
       "    (727530.0, 6151970.0),\n",
       "    (727535.0, 6151970.0),\n",
       "    (727535.0, 6151990.0),\n",
       "    (727540.0, 6151990.0),\n",
       "    (727540.0, 6152000.0),\n",
       "    (727545.0, 6152000.0),\n",
       "    (727545.0, 6152005.0),\n",
       "    (727550.0, 6152005.0),\n",
       "    (727550.0, 6152020.0),\n",
       "    (727555.0, 6152020.0),\n",
       "    (727555.0, 6152065.0),\n",
       "    (727560.0, 6152065.0),\n",
       "    (727560.0, 6152080.0),\n",
       "    (727565.0, 6152080.0),\n",
       "    (727565.0, 6152085.0),\n",
       "    (727570.0, 6152085.0),\n",
       "    (727570.0, 6152095.0),\n",
       "    (727575.0, 6152095.0),\n",
       "    (727575.0, 6152110.0),\n",
       "    (727580.0, 6152110.0),\n",
       "    (727580.0, 6152120.0),\n",
       "    (727585.0, 6152120.0),\n",
       "    (727585.0, 6152125.0),\n",
       "    (727590.0, 6152125.0),\n",
       "    (727590.0, 6152135.0),\n",
       "    (727595.0, 6152135.0),\n",
       "    (727595.0, 6152150.0),\n",
       "    (727550.0, 6152150.0),\n",
       "    (727550.0, 6152155.0),\n",
       "    (727545.0, 6152155.0),\n",
       "    (727545.0, 6152160.0),\n",
       "    (727540.0, 6152160.0),\n",
       "    (727540.0, 6152165.0),\n",
       "    (727505.0, 6152165.0),\n",
       "    (727505.0, 6152160.0),\n",
       "    (727490.0, 6152160.0),\n",
       "    (727490.0, 6152205.0),\n",
       "    (727475.0, 6152205.0),\n",
       "    (727475.0, 6152210.0),\n",
       "    (727470.0, 6152210.0),\n",
       "    (727470.0, 6152211.491274351),\n",
       "    (727489.4883000003, 6152215.3138),\n",
       "    (727539.8923000004, 6152241.332800001),\n",
       "    (727548.3402000004, 6152245.693700001),\n",
       "    (727596.3624999998, 6152266.8606),\n",
       "    (727615.4598000003, 6152264.613399999),\n",
       "    (727624.2225000001, 6152258.6689),\n",
       "    (727626.4616999999, 6152257.149800001),\n",
       "    (727642.6106000002, 6152246.194499999),\n",
       "    (727663.0687999995, 6152232.3158),\n",
       "    (727699.0796999997, 6152207.886299999),\n",
       "    (727720.5031000003, 6152183.703299999),\n",
       "    (727729.1041000001, 6152171.504799999),\n",
       "    (727734.1880000001, 6152137.912599999),\n",
       "    (727754.6009, 6152104.2456),\n",
       "    (727793.6610000003, 6152006.1534),\n",
       "    (727797.494, 6152001.7335),\n",
       "    (727798.9473000001, 6152000.057700001),\n",
       "    (727809.3846000005, 6151988.022399999),\n",
       "    (727814.5155999996, 6151974.145400001),\n",
       "    (727814.0761000002, 6151954.411699999),\n",
       "    (727785.3230999997, 6151879.2974),\n",
       "    (727734.6710000001, 6151767.0525),\n",
       "    (727705.1851000004, 6151713.841),\n",
       "    (727704.4101999998, 6151712.4427000005),\n",
       "    (727702.9895000001, 6151710.807499999),\n",
       "    (727674.4513999997, 6151677.961200001),\n",
       "    (727646.3278000001, 6151624.582),\n",
       "    (727623.2832000004, 6151576.604900001),\n",
       "    (727604.1617999999, 6151530.7546),\n",
       "    (727590.9358000001, 6151477.2871),\n",
       "    (727584.6792000001, 6151476.203),\n",
       "    (727551.4504000004, 6151478.576199999),\n",
       "    (727539.7237, 6151476.4453),\n",
       "    (727528.1404999997, 6151454.6072),\n",
       "    (727529.2346000001, 6151440.9175),\n",
       "    (727576.2889, 6151388.9869),\n",
       "    (727603.5148999998, 6151390.6896),\n",
       "    (727616.7586000003, 6151380.176000001),\n",
       "    (727624.4094000002, 6151370.2195),\n",
       "    (727632.0438999999, 6151354.3717),\n",
       "    (727633.3356999997, 6151343.0189),\n",
       "    (727625.4693999998, 6151291.407400001),\n",
       "    (727595.0017999997, 6151222.0283),\n",
       "    (727561.3250000002, 6151140.704500001),\n",
       "    (727549.6224999996, 6151114.755100001),\n",
       "    (727538.3322999999, 6151110.7272),\n",
       "    (727536.5399000002, 6151111.023499999),\n",
       "    (727531.9475999996, 6151111.7827),\n",
       "    (727495.9959000004, 6151117.726),\n",
       "    (727334.2928999998, 6151449.5298999995),\n",
       "    (727346.0829999996, 6151461.460999999),\n",
       "    (727347.869, 6151463.2684),\n",
       "    (727359.3827, 6151474.9198),\n",
       "    (727402.3652999997, 6151497.4109000005),\n",
       "    (727407.2631999999, 6151510.5057),\n",
       "    (727402.3651999999, 6151519.1021),\n",
       "    (727381.0735999998, 6151520.8013),\n",
       "    (727340.7729000002, 6151513.920700001),\n",
       "    (727340.0900999997, 6151513.804099999),\n",
       "    (727331.4935999997, 6151521.200999999),\n",
       "    (727331.4935999997, 6151521.7224),\n",
       "    (727331.4938000003, 6151537.0945999995),\n",
       "    (727346.1875, 6151561.684599999),\n",
       "    (727371.6771, 6151594.2719),\n",
       "    (727397.1667, 6151618.0623),\n",
       "    (727419.2578999996, 6151628.258199999),\n",
       "    (727438.1502999999, 6151641.3531),\n",
       "    (727443.8480000002, 6151654.447699999),\n",
       "    (727443.7367626316, 6151655.0),\n",
       "    (727445.0, 6151655.0),\n",
       "    (727445.0, 6151660.0),\n",
       "    (727450.0, 6151660.0),\n",
       "    (727450.0, 6151665.0),\n",
       "    (727455.0, 6151665.0),\n",
       "    (727455.0, 6151695.0),\n",
       "    (727460.0, 6151695.0),\n",
       "    (727460.0, 6151705.0),\n",
       "    (727465.0, 6151705.0),\n",
       "    (727465.0, 6151710.0),\n",
       "    (727470.0, 6151710.0),\n",
       "    (727470.0, 6151715.0),\n",
       "    (727475.0, 6151715.0),\n",
       "    (727475.0, 6151735.0),\n",
       "    (727480.0, 6151735.0),\n",
       "    (727480.0, 6151745.0),\n",
       "    (727485.0, 6151745.0),\n",
       "    (727485.0, 6151750.0),\n",
       "    (727490.0, 6151750.0),\n",
       "    (727490.0, 6151760.0),\n",
       "    (727495.0, 6151760.0),\n",
       "    (727495.0, 6151780.0),\n",
       "    (727500.0, 6151780.0),\n",
       "    (727500.0, 6151819.512285478),\n",
       "    (727500.5417, 6151819.669600001),\n",
       "    (727503.1276000002, 6151820.420600001),\n",
       "    (727512.7083999999, 6151837.8839),\n",
       "    (727512.7154999999, 6151837.912599999),\n",
       "    (727515.3552000001, 6151848.5909),\n",
       "    (727520.8136, 6151870.671399999),\n",
       "    (727519.0338758396, 6151875.0)),)}}"
      ]
     },
     "execution_count": 355,
     "metadata": {},
     "output_type": "execute_result"
    }
   ],
   "source": [
    "polygs[4]"
   ]
  },
  {
   "cell_type": "code",
   "execution_count": null,
   "metadata": {},
   "outputs": [],
   "source": []
  },
  {
   "cell_type": "code",
   "execution_count": 350,
   "metadata": {},
   "outputs": [
    {
     "data": {
      "text/plain": [
       "OrderedDict([('FID', None), ('class', 0)])"
      ]
     },
     "execution_count": 350,
     "metadata": {},
     "output_type": "execute_result"
    }
   ],
   "source": [
    "opt=copy(polygs[4]['properties'])"
   ]
  },
  {
   "cell_type": "code",
   "execution_count": null,
   "metadata": {},
   "outputs": [],
   "source": []
  },
  {
   "cell_type": "code",
   "execution_count": 349,
   "metadata": {},
   "outputs": [
    {
     "data": {
      "text/plain": [
       "{'type': 'Feature',\n",
       " 'id': '3',\n",
       " 'properties': OrderedDict([('FID', None), ('class', 0)]),\n",
       " 'geometry': {'type': 'Polygon',\n",
       "  'coordinates': (((727519.0338758396, 6151875.0),\n",
       "    (727520.0, 6151875.0),\n",
       "    (727525.0, 6151875.0),\n",
       "    (727525.0, 6151880.0),\n",
       "    (727530.0, 6151880.0),\n",
       "    (727530.0, 6151910.0),\n",
       "    (727525.0, 6151910.0),\n",
       "    (727525.0, 6151920.0),\n",
       "    (727520.0, 6151920.0),\n",
       "    (727520.0, 6151945.0),\n",
       "    (727525.0, 6151945.0),\n",
       "    (727525.0, 6151955.0),\n",
       "    (727530.0, 6151955.0),\n",
       "    (727530.0, 6151970.0),\n",
       "    (727535.0, 6151970.0),\n",
       "    (727535.0, 6151990.0),\n",
       "    (727540.0, 6151990.0),\n",
       "    (727540.0, 6152000.0),\n",
       "    (727545.0, 6152000.0),\n",
       "    (727545.0, 6152005.0),\n",
       "    (727550.0, 6152005.0),\n",
       "    (727550.0, 6152020.0),\n",
       "    (727555.0, 6152020.0),\n",
       "    (727555.0, 6152065.0),\n",
       "    (727560.0, 6152065.0),\n",
       "    (727560.0, 6152080.0),\n",
       "    (727565.0, 6152080.0),\n",
       "    (727565.0, 6152085.0),\n",
       "    (727570.0, 6152085.0),\n",
       "    (727570.0, 6152095.0),\n",
       "    (727575.0, 6152095.0),\n",
       "    (727575.0, 6152110.0),\n",
       "    (727580.0, 6152110.0),\n",
       "    (727580.0, 6152120.0),\n",
       "    (727585.0, 6152120.0),\n",
       "    (727585.0, 6152125.0),\n",
       "    (727590.0, 6152125.0),\n",
       "    (727590.0, 6152135.0),\n",
       "    (727595.0, 6152135.0),\n",
       "    (727595.0, 6152150.0),\n",
       "    (727550.0, 6152150.0),\n",
       "    (727550.0, 6152155.0),\n",
       "    (727545.0, 6152155.0),\n",
       "    (727545.0, 6152160.0),\n",
       "    (727540.0, 6152160.0),\n",
       "    (727540.0, 6152165.0),\n",
       "    (727505.0, 6152165.0),\n",
       "    (727505.0, 6152160.0),\n",
       "    (727490.0, 6152160.0),\n",
       "    (727490.0, 6152205.0),\n",
       "    (727475.0, 6152205.0),\n",
       "    (727475.0, 6152210.0),\n",
       "    (727470.0, 6152210.0),\n",
       "    (727470.0, 6152211.491274351),\n",
       "    (727489.4883000003, 6152215.3138),\n",
       "    (727539.8923000004, 6152241.332800001),\n",
       "    (727548.3402000004, 6152245.693700001),\n",
       "    (727596.3624999998, 6152266.8606),\n",
       "    (727615.4598000003, 6152264.613399999),\n",
       "    (727624.2225000001, 6152258.6689),\n",
       "    (727626.4616999999, 6152257.149800001),\n",
       "    (727642.6106000002, 6152246.194499999),\n",
       "    (727663.0687999995, 6152232.3158),\n",
       "    (727699.0796999997, 6152207.886299999),\n",
       "    (727720.5031000003, 6152183.703299999),\n",
       "    (727729.1041000001, 6152171.504799999),\n",
       "    (727734.1880000001, 6152137.912599999),\n",
       "    (727754.6009, 6152104.2456),\n",
       "    (727793.6610000003, 6152006.1534),\n",
       "    (727797.494, 6152001.7335),\n",
       "    (727798.9473000001, 6152000.057700001),\n",
       "    (727809.3846000005, 6151988.022399999),\n",
       "    (727814.5155999996, 6151974.145400001),\n",
       "    (727814.0761000002, 6151954.411699999),\n",
       "    (727785.3230999997, 6151879.2974),\n",
       "    (727734.6710000001, 6151767.0525),\n",
       "    (727705.1851000004, 6151713.841),\n",
       "    (727704.4101999998, 6151712.4427000005),\n",
       "    (727702.9895000001, 6151710.807499999),\n",
       "    (727674.4513999997, 6151677.961200001),\n",
       "    (727646.3278000001, 6151624.582),\n",
       "    (727623.2832000004, 6151576.604900001),\n",
       "    (727604.1617999999, 6151530.7546),\n",
       "    (727590.9358000001, 6151477.2871),\n",
       "    (727584.6792000001, 6151476.203),\n",
       "    (727551.4504000004, 6151478.576199999),\n",
       "    (727539.7237, 6151476.4453),\n",
       "    (727528.1404999997, 6151454.6072),\n",
       "    (727529.2346000001, 6151440.9175),\n",
       "    (727576.2889, 6151388.9869),\n",
       "    (727603.5148999998, 6151390.6896),\n",
       "    (727616.7586000003, 6151380.176000001),\n",
       "    (727624.4094000002, 6151370.2195),\n",
       "    (727632.0438999999, 6151354.3717),\n",
       "    (727633.3356999997, 6151343.0189),\n",
       "    (727625.4693999998, 6151291.407400001),\n",
       "    (727595.0017999997, 6151222.0283),\n",
       "    (727561.3250000002, 6151140.704500001),\n",
       "    (727549.6224999996, 6151114.755100001),\n",
       "    (727538.3322999999, 6151110.7272),\n",
       "    (727536.5399000002, 6151111.023499999),\n",
       "    (727531.9475999996, 6151111.7827),\n",
       "    (727495.9959000004, 6151117.726),\n",
       "    (727334.2928999998, 6151449.5298999995),\n",
       "    (727346.0829999996, 6151461.460999999),\n",
       "    (727347.869, 6151463.2684),\n",
       "    (727359.3827, 6151474.9198),\n",
       "    (727402.3652999997, 6151497.4109000005),\n",
       "    (727407.2631999999, 6151510.5057),\n",
       "    (727402.3651999999, 6151519.1021),\n",
       "    (727381.0735999998, 6151520.8013),\n",
       "    (727340.7729000002, 6151513.920700001),\n",
       "    (727340.0900999997, 6151513.804099999),\n",
       "    (727331.4935999997, 6151521.200999999),\n",
       "    (727331.4935999997, 6151521.7224),\n",
       "    (727331.4938000003, 6151537.0945999995),\n",
       "    (727346.1875, 6151561.684599999),\n",
       "    (727371.6771, 6151594.2719),\n",
       "    (727397.1667, 6151618.0623),\n",
       "    (727419.2578999996, 6151628.258199999),\n",
       "    (727438.1502999999, 6151641.3531),\n",
       "    (727443.8480000002, 6151654.447699999),\n",
       "    (727443.7367626316, 6151655.0),\n",
       "    (727445.0, 6151655.0),\n",
       "    (727445.0, 6151660.0),\n",
       "    (727450.0, 6151660.0),\n",
       "    (727450.0, 6151665.0),\n",
       "    (727455.0, 6151665.0),\n",
       "    (727455.0, 6151695.0),\n",
       "    (727460.0, 6151695.0),\n",
       "    (727460.0, 6151705.0),\n",
       "    (727465.0, 6151705.0),\n",
       "    (727465.0, 6151710.0),\n",
       "    (727470.0, 6151710.0),\n",
       "    (727470.0, 6151715.0),\n",
       "    (727475.0, 6151715.0),\n",
       "    (727475.0, 6151735.0),\n",
       "    (727480.0, 6151735.0),\n",
       "    (727480.0, 6151745.0),\n",
       "    (727485.0, 6151745.0),\n",
       "    (727485.0, 6151750.0),\n",
       "    (727490.0, 6151750.0),\n",
       "    (727490.0, 6151760.0),\n",
       "    (727495.0, 6151760.0),\n",
       "    (727495.0, 6151780.0),\n",
       "    (727500.0, 6151780.0),\n",
       "    (727500.0, 6151819.512285478),\n",
       "    (727500.5417, 6151819.669600001),\n",
       "    (727503.1276000002, 6151820.420600001),\n",
       "    (727512.7083999999, 6151837.8839),\n",
       "    (727512.7154999999, 6151837.912599999),\n",
       "    (727515.3552000001, 6151848.5909),\n",
       "    (727520.8136, 6151870.671399999),\n",
       "    (727519.0338758396, 6151875.0)),)}}"
      ]
     },
     "execution_count": 349,
     "metadata": {},
     "output_type": "execute_result"
    }
   ],
   "source": [
    "polygs[4]"
   ]
  },
  {
   "cell_type": "code",
   "execution_count": 289,
   "metadata": {},
   "outputs": [],
   "source": [
    "import fiona\n",
    "uu=fiona.open(vectors, layer=0)"
   ]
  },
  {
   "cell_type": "code",
   "execution_count": 292,
   "metadata": {},
   "outputs": [],
   "source": [
    "uu.close()"
   ]
  },
  {
   "cell_type": "code",
   "execution_count": 303,
   "metadata": {},
   "outputs": [
    {
     "data": {
      "text/plain": [
       "OrderedDict([('FID', 'int:10')])"
      ]
     },
     "execution_count": 303,
     "metadata": {},
     "output_type": "execute_result"
    }
   ],
   "source": [
    "mt['schema']['properties']"
   ]
  },
  {
   "cell_type": "code",
   "execution_count": 305,
   "metadata": {},
   "outputs": [],
   "source": [
    "mypoly[0]['properties']['FID']='int:10'\n",
    "mypoly[0]['properties']['class']='int:10'"
   ]
  },
  {
   "cell_type": "code",
   "execution_count": 307,
   "metadata": {},
   "outputs": [
    {
     "data": {
      "text/plain": [
       "{'type': 'Feature',\n",
       " 'id': '3',\n",
       " 'properties': OrderedDict([('FID', None), ('class', 0)]),\n",
       " 'geometry': {'type': 'Polygon',\n",
       "  'coordinates': (((727519.0338758396, 6151875.0),\n",
       "    (727520.0, 6151875.0),\n",
       "    (727525.0, 6151875.0),\n",
       "    (727525.0, 6151880.0),\n",
       "    (727530.0, 6151880.0),\n",
       "    (727530.0, 6151910.0),\n",
       "    (727525.0, 6151910.0),\n",
       "    (727525.0, 6151920.0),\n",
       "    (727520.0, 6151920.0),\n",
       "    (727520.0, 6151945.0),\n",
       "    (727525.0, 6151945.0),\n",
       "    (727525.0, 6151955.0),\n",
       "    (727530.0, 6151955.0),\n",
       "    (727530.0, 6151970.0),\n",
       "    (727535.0, 6151970.0),\n",
       "    (727535.0, 6151990.0),\n",
       "    (727540.0, 6151990.0),\n",
       "    (727540.0, 6152000.0),\n",
       "    (727545.0, 6152000.0),\n",
       "    (727545.0, 6152005.0),\n",
       "    (727550.0, 6152005.0),\n",
       "    (727550.0, 6152020.0),\n",
       "    (727555.0, 6152020.0),\n",
       "    (727555.0, 6152065.0),\n",
       "    (727560.0, 6152065.0),\n",
       "    (727560.0, 6152080.0),\n",
       "    (727565.0, 6152080.0),\n",
       "    (727565.0, 6152085.0),\n",
       "    (727570.0, 6152085.0),\n",
       "    (727570.0, 6152095.0),\n",
       "    (727575.0, 6152095.0),\n",
       "    (727575.0, 6152110.0),\n",
       "    (727580.0, 6152110.0),\n",
       "    (727580.0, 6152120.0),\n",
       "    (727585.0, 6152120.0),\n",
       "    (727585.0, 6152125.0),\n",
       "    (727590.0, 6152125.0),\n",
       "    (727590.0, 6152135.0),\n",
       "    (727595.0, 6152135.0),\n",
       "    (727595.0, 6152150.0),\n",
       "    (727550.0, 6152150.0),\n",
       "    (727550.0, 6152155.0),\n",
       "    (727545.0, 6152155.0),\n",
       "    (727545.0, 6152160.0),\n",
       "    (727540.0, 6152160.0),\n",
       "    (727540.0, 6152165.0),\n",
       "    (727505.0, 6152165.0),\n",
       "    (727505.0, 6152160.0),\n",
       "    (727490.0, 6152160.0),\n",
       "    (727490.0, 6152205.0),\n",
       "    (727475.0, 6152205.0),\n",
       "    (727475.0, 6152210.0),\n",
       "    (727470.0, 6152210.0),\n",
       "    (727470.0, 6152211.491274351),\n",
       "    (727489.4883000003, 6152215.3138),\n",
       "    (727539.8923000004, 6152241.332800001),\n",
       "    (727548.3402000004, 6152245.693700001),\n",
       "    (727596.3624999998, 6152266.8606),\n",
       "    (727615.4598000003, 6152264.613399999),\n",
       "    (727624.2225000001, 6152258.6689),\n",
       "    (727626.4616999999, 6152257.149800001),\n",
       "    (727642.6106000002, 6152246.194499999),\n",
       "    (727663.0687999995, 6152232.3158),\n",
       "    (727699.0796999997, 6152207.886299999),\n",
       "    (727720.5031000003, 6152183.703299999),\n",
       "    (727729.1041000001, 6152171.504799999),\n",
       "    (727734.1880000001, 6152137.912599999),\n",
       "    (727754.6009, 6152104.2456),\n",
       "    (727793.6610000003, 6152006.1534),\n",
       "    (727797.494, 6152001.7335),\n",
       "    (727798.9473000001, 6152000.057700001),\n",
       "    (727809.3846000005, 6151988.022399999),\n",
       "    (727814.5155999996, 6151974.145400001),\n",
       "    (727814.0761000002, 6151954.411699999),\n",
       "    (727785.3230999997, 6151879.2974),\n",
       "    (727734.6710000001, 6151767.0525),\n",
       "    (727705.1851000004, 6151713.841),\n",
       "    (727704.4101999998, 6151712.4427000005),\n",
       "    (727702.9895000001, 6151710.807499999),\n",
       "    (727674.4513999997, 6151677.961200001),\n",
       "    (727646.3278000001, 6151624.582),\n",
       "    (727623.2832000004, 6151576.604900001),\n",
       "    (727604.1617999999, 6151530.7546),\n",
       "    (727590.9358000001, 6151477.2871),\n",
       "    (727584.6792000001, 6151476.203),\n",
       "    (727551.4504000004, 6151478.576199999),\n",
       "    (727539.7237, 6151476.4453),\n",
       "    (727528.1404999997, 6151454.6072),\n",
       "    (727529.2346000001, 6151440.9175),\n",
       "    (727576.2889, 6151388.9869),\n",
       "    (727603.5148999998, 6151390.6896),\n",
       "    (727616.7586000003, 6151380.176000001),\n",
       "    (727624.4094000002, 6151370.2195),\n",
       "    (727632.0438999999, 6151354.3717),\n",
       "    (727633.3356999997, 6151343.0189),\n",
       "    (727625.4693999998, 6151291.407400001),\n",
       "    (727595.0017999997, 6151222.0283),\n",
       "    (727561.3250000002, 6151140.704500001),\n",
       "    (727549.6224999996, 6151114.755100001),\n",
       "    (727538.3322999999, 6151110.7272),\n",
       "    (727536.5399000002, 6151111.023499999),\n",
       "    (727531.9475999996, 6151111.7827),\n",
       "    (727495.9959000004, 6151117.726),\n",
       "    (727334.2928999998, 6151449.5298999995),\n",
       "    (727346.0829999996, 6151461.460999999),\n",
       "    (727347.869, 6151463.2684),\n",
       "    (727359.3827, 6151474.9198),\n",
       "    (727402.3652999997, 6151497.4109000005),\n",
       "    (727407.2631999999, 6151510.5057),\n",
       "    (727402.3651999999, 6151519.1021),\n",
       "    (727381.0735999998, 6151520.8013),\n",
       "    (727340.7729000002, 6151513.920700001),\n",
       "    (727340.0900999997, 6151513.804099999),\n",
       "    (727331.4935999997, 6151521.200999999),\n",
       "    (727331.4935999997, 6151521.7224),\n",
       "    (727331.4938000003, 6151537.0945999995),\n",
       "    (727346.1875, 6151561.684599999),\n",
       "    (727371.6771, 6151594.2719),\n",
       "    (727397.1667, 6151618.0623),\n",
       "    (727419.2578999996, 6151628.258199999),\n",
       "    (727438.1502999999, 6151641.3531),\n",
       "    (727443.8480000002, 6151654.447699999),\n",
       "    (727443.7367626316, 6151655.0),\n",
       "    (727445.0, 6151655.0),\n",
       "    (727445.0, 6151660.0),\n",
       "    (727450.0, 6151660.0),\n",
       "    (727450.0, 6151665.0),\n",
       "    (727455.0, 6151665.0),\n",
       "    (727455.0, 6151695.0),\n",
       "    (727460.0, 6151695.0),\n",
       "    (727460.0, 6151705.0),\n",
       "    (727465.0, 6151705.0),\n",
       "    (727465.0, 6151710.0),\n",
       "    (727470.0, 6151710.0),\n",
       "    (727470.0, 6151715.0),\n",
       "    (727475.0, 6151715.0),\n",
       "    (727475.0, 6151735.0),\n",
       "    (727480.0, 6151735.0),\n",
       "    (727480.0, 6151745.0),\n",
       "    (727485.0, 6151745.0),\n",
       "    (727485.0, 6151750.0),\n",
       "    (727490.0, 6151750.0),\n",
       "    (727490.0, 6151760.0),\n",
       "    (727495.0, 6151760.0),\n",
       "    (727495.0, 6151780.0),\n",
       "    (727500.0, 6151780.0),\n",
       "    (727500.0, 6151819.512285478),\n",
       "    (727500.5417, 6151819.669600001),\n",
       "    (727503.1276000002, 6151820.420600001),\n",
       "    (727512.7083999999, 6151837.8839),\n",
       "    (727512.7154999999, 6151837.912599999),\n",
       "    (727515.3552000001, 6151848.5909),\n",
       "    (727520.8136, 6151870.671399999),\n",
       "    (727519.0338758396, 6151875.0)),)}}"
      ]
     },
     "execution_count": 307,
     "metadata": {},
     "output_type": "execute_result"
    }
   ],
   "source": [
    "mypoly[1]"
   ]
  },
  {
   "cell_type": "code",
   "execution_count": null,
   "metadata": {},
   "outputs": [],
   "source": []
  },
  {
   "cell_type": "code",
   "execution_count": 188,
   "metadata": {},
   "outputs": [
    {
     "name": "stdout",
     "output_type": "stream",
     "text": [
      "Polygon\n",
      "Polygon\n",
      "Polygon\n"
     ]
    }
   ],
   "source": [
    "import copy\n",
    "\n",
    "nm=3\n",
    "cl=get_by_num0(nm)\n",
    "cl1=expand_im(cl)\n",
    "outline=shape(segment_items[nm]['geojson']['geometry'])\n",
    "trans=np.array(segment_items[nm]['transf_5']).reshape((2,3))\n",
    "mypoly=[]\n",
    "mpl=[]\n",
    "\n",
    "for vec in rasterio.features.shapes(cl1.astype('int16')):\n",
    "    multpl=vec[0]['coordinates']\n",
    "    for i in range(len(multpl)):\n",
    "        poly=multpl[i]\n",
    "        poly=[tuple(trans.dot([x,y,1])) for x,y in poly]\n",
    "\n",
    "        vec[0]['coordinates'][i]=poly\n",
    "\n",
    "    shp=shape(vec[0])        \n",
    "    shp=shp.intersection(outline)\n",
    "    mpl.append(shp)\n",
    "\n",
    "#         if shp.geom_type =='Polygon': \n",
    "\n",
    "#     print(shp.geom_type)\n",
    "    if shp.geom_type in ['MultiPolygon','GeometryCollection']:\n",
    "        if len(shp)==0: continue\n",
    "        shps=[pol for pol in shp]\n",
    "    else: shps=[shp]\n",
    "        \n",
    "    for i in shps:\n",
    "\n",
    "        outshp=dict(segment_items[nm]['geojson'])\n",
    "\n",
    "        prop= copy.deepcopy(outshp['properties'])    \n",
    "        prop['class']=int(vec[1])\n",
    "        outshp['geometry']= shapely.geometry.mapping(i)\n",
    "        outshp['properties']=prop\n",
    "\n",
    "        mypoly.append(outshp)"
   ]
  },
  {
   "cell_type": "code",
   "execution_count": 216,
   "metadata": {},
   "outputs": [
    {
     "name": "stdout",
     "output_type": "stream",
     "text": [
      "1\n",
      "1\n"
     ]
    }
   ],
   "source": [
    "for i in shape(mypoly[2]['geometry']).interiors:\n",
    "    print(1)"
   ]
  },
  {
   "cell_type": "code",
   "execution_count": 223,
   "metadata": {},
   "outputs": [
    {
     "data": {
      "image/png": "[encoded data removed]",
      "text/plain": [
       "<Figure size 1296x720 with 1 Axes>"
      ]
     },
     "metadata": {
      "needs_background": "light"
     },
     "output_type": "display_data"
    }
   ],
   "source": [
    "colr={-1:'k',0:'k',1:'g',2:'c',3:'b',4:'r'}\n",
    "plt.figure(figsize=(18,10))\n",
    "plt.axis('equal')\n",
    "for pol in mypoly:\n",
    "    geom=shape(pol['geometry'])\n",
    "    col=int(pol['properties']['class'])        \n",
    "    plt.plot(*geom.exterior.xy,colr[col])\n",
    "    for i in geom.interiors:\n",
    "        plt.plot(*i.xy,colr[col])"
   ]
  },
  {
   "cell_type": "code",
   "execution_count": null,
   "metadata": {},
   "outputs": [],
   "source": []
  },
  {
   "cell_type": "code",
   "execution_count": null,
   "metadata": {},
   "outputs": [],
   "source": []
  },
  {
   "cell_type": "code",
   "execution_count": null,
   "metadata": {},
   "outputs": [],
   "source": []
  },
  {
   "cell_type": "code",
   "execution_count": null,
   "metadata": {},
   "outputs": [],
   "source": []
  },
  {
   "cell_type": "code",
   "execution_count": null,
   "metadata": {},
   "outputs": [],
   "source": []
  },
  {
   "cell_type": "code",
   "execution_count": null,
   "metadata": {},
   "outputs": [],
   "source": []
  },
  {
   "cell_type": "code",
   "execution_count": null,
   "metadata": {},
   "outputs": [],
   "source": []
  },
  {
   "cell_type": "code",
   "execution_count": null,
   "metadata": {},
   "outputs": [],
   "source": []
  },
  {
   "cell_type": "code",
   "execution_count": null,
   "metadata": {},
   "outputs": [],
   "source": []
  },
  {
   "cell_type": "code",
   "execution_count": 16,
   "metadata": {},
   "outputs": [],
   "source": [
    "seg=segment_items[3]['segments_5']\n",
    "clss=get_by_num0(3)"
   ]
  },
  {
   "cell_type": "code",
   "execution_count": 19,
   "metadata": {},
   "outputs": [
    {
     "data": {
      "text/plain": [
       "<matplotlib.image.AxesImage at 0x7f09687defd0>"
      ]
     },
     "execution_count": 19,
     "metadata": {},
     "output_type": "execute_result"
    },
    {
     "data": {
      "image/png": "[encoded data removed]",
      "text/plain": [
       "<Figure size 432x288 with 1 Axes>"
      ]
     },
     "metadata": {
      "needs_background": "light"
     },
     "output_type": "display_data"
    }
   ],
   "source": [
    "plt.imshow(clss)"
   ]
  },
  {
   "cell_type": "code",
   "execution_count": 25,
   "metadata": {},
   "outputs": [],
   "source": []
  },
  {
   "cell_type": "code",
   "execution_count": 135,
   "metadata": {},
   "outputs": [],
   "source": []
  },
  {
   "cell_type": "code",
   "execution_count": 138,
   "metadata": {},
   "outputs": [],
   "source": [
    "def nearest_ind(ind_neig,ind_cand):\n",
    "    Xn=ind_neig[:,0]\n",
    "    Yn=ind_neig[:,1]\n",
    "    Xc=ind_cand[:,0]\n",
    "    Yc=ind_cand[:,1]\n",
    "    Xn=np.stack([-np.ones_like(Xn),Xn])\n",
    "    Xc=np.stack([Xc, np.ones_like(Xc)])\n",
    "    Xdist=Xn.T.dot(Xc)    \n",
    "    Yn=np.stack([-np.ones_like(Yn),Yn])\n",
    "    Yc=np.stack([Yc, np.ones_like(Yc)])\n",
    "    Ydist=Yn.T.dot(Yc) \n",
    "    return np.argmin((Xdist**2+Ydist**2),axis=0)\n",
    "\n",
    "def expand_im(im, mask_val=-1):\n",
    "    from scipy.ndimage import binary_erosion\n",
    "    mask=np.copy(im)\n",
    "    mask[mask!=mask_val]=1\n",
    "    mask[mask==mask_val]=0\n",
    "    neig_mask=binary_erosion(mask)-mask\n",
    "    indarr=np.indices(mask.shape)\n",
    "\n",
    "    XYn=np.rollaxis(indarr,0,3)[neig_mask==-1]\n",
    "    XYc=np.rollaxis(indarr,0,3)[mask==0]\n",
    "\n",
    "    gg=nearest_ind(XYn,XYc)\n",
    "    ccl=np.copy(im)\n",
    "    ccl[XYc[:,0],XYc[:,1]]=ccl[XYn[gg][:,0],XYn[gg][:,1]]\n",
    "    return ccl\n",
    "\n",
    "# plt.imshow(mask)"
   ]
  },
  {
   "cell_type": "code",
   "execution_count": null,
   "metadata": {},
   "outputs": [],
   "source": []
  },
  {
   "cell_type": "code",
   "execution_count": 137,
   "metadata": {},
   "outputs": [
    {
     "name": "stdout",
     "output_type": "stream",
     "text": [
      "284 ms ± 202 µs per loop (mean ± std. dev. of 7 runs, 1 loop each)\n"
     ]
    }
   ],
   "source": [
    "%%timeit\n",
    "expand_im(seg, mask_val=0)"
   ]
  },
  {
   "cell_type": "code",
   "execution_count": 133,
   "metadata": {},
   "outputs": [
    {
     "name": "stdout",
     "output_type": "stream",
     "text": [
      "(857, 2) (857,)\n"
     ]
    },
    {
     "data": {
      "text/plain": [
       "<matplotlib.image.AxesImage at 0x7f0953199c18>"
      ]
     },
     "execution_count": 133,
     "metadata": {},
     "output_type": "execute_result"
    },
    {
     "data": {
      "image/png": "[encoded data removed]",
      "text/plain": [
       "<Figure size 1440x1440 with 1 Axes>"
      ]
     },
     "metadata": {
      "needs_background": "light"
     },
     "output_type": "display_data"
    }
   ],
   "source": [
    "\n",
    "mask=np.copy(seg)\n",
    "mask[mask!=0]=1\n",
    "mask[mask==0]=0\n",
    "mask=binary_erosion(mask)-mask\n",
    "\n",
    "\n",
    "exp_im=expand_im(seg, mask_val=0)\n",
    "exp_im[mask==-1]=-1\n",
    "plt.figure(figsize=(20,20))\n",
    "plt.imshow(exp_im)\n"
   ]
  },
  {
   "cell_type": "code",
   "execution_count": 132,
   "metadata": {},
   "outputs": [
    {
     "data": {
      "text/plain": [
       "<matplotlib.image.AxesImage at 0x7f09531c8320>"
      ]
     },
     "execution_count": 132,
     "metadata": {},
     "output_type": "execute_result"
    },
    {
     "data": {
      "image/png": "[encoded data removed]",
      "text/plain": [
       "<Figure size 432x288 with 1 Axes>"
      ]
     },
     "metadata": {
      "needs_background": "light"
     },
     "output_type": "display_data"
    }
   ],
   "source": [
    "plt.imshow(mask)"
   ]
  },
  {
   "cell_type": "code",
   "execution_count": 109,
   "metadata": {},
   "outputs": [
    {
     "data": {
      "text/plain": [
       "(27024, 2)"
      ]
     },
     "execution_count": 109,
     "metadata": {},
     "output_type": "execute_result"
    }
   ],
   "source": [
    "XYc.shape"
   ]
  },
  {
   "cell_type": "code",
   "execution_count": 118,
   "metadata": {},
   "outputs": [],
   "source": [
    "ccl=np.copy(clss)\n",
    "ccl[XYc[:,0],XYc[:,1]]=ccl[XYn[gg][:,0],XYn[gg][:,1]]"
   ]
  },
  {
   "cell_type": "code",
   "execution_count": 120,
   "metadata": {},
   "outputs": [
    {
     "data": {
      "text/plain": [
       "<matplotlib.image.AxesImage at 0x7f09534ed7f0>"
      ]
     },
     "execution_count": 120,
     "metadata": {},
     "output_type": "execute_result"
    },
    {
     "data": {
      "image/png": "[encoded data removed]",
      "text/plain": [
       "<Figure size 432x288 with 1 Axes>"
      ]
     },
     "metadata": {
      "needs_background": "light"
     },
     "output_type": "display_data"
    }
   ],
   "source": [
    "plt.imshow(clss)"
   ]
  },
  {
   "cell_type": "code",
   "execution_count": 119,
   "metadata": {},
   "outputs": [
    {
     "data": {
      "text/plain": [
       "<matplotlib.image.AxesImage at 0x7f0953b5eac8>"
      ]
     },
     "execution_count": 119,
     "metadata": {},
     "output_type": "execute_result"
    },
    {
     "data": {
      "image/png": "[encoded data removed]",
      "text/plain": [
       "<Figure size 432x288 with 1 Axes>"
      ]
     },
     "metadata": {
      "needs_background": "light"
     },
     "output_type": "display_data"
    }
   ],
   "source": [
    "plt.imshow(ccl)"
   ]
  },
  {
   "cell_type": "code",
   "execution_count": 112,
   "metadata": {},
   "outputs": [
    {
     "data": {
      "text/plain": [
       "(27024, 2)"
      ]
     },
     "execution_count": 112,
     "metadata": {},
     "output_type": "execute_result"
    }
   ],
   "source": [
    "XYn[gg].shape\n",
    "\n",
    "\n",
    "# clss[XYc[:,0],XYc[:,1]]"
   ]
  },
  {
   "cell_type": "code",
   "execution_count": 90,
   "metadata": {},
   "outputs": [
    {
     "name": "stdout",
     "output_type": "stream",
     "text": [
      "(857, 2) (857,)\n"
     ]
    },
    {
     "data": {
      "text/plain": [
       "array([104, 104, 104, ..., 817, 817, 817])"
      ]
     },
     "execution_count": 90,
     "metadata": {},
     "output_type": "execute_result"
    }
   ],
   "source": [
    "nearest_ind(XYn,XYc)"
   ]
  },
  {
   "cell_type": "code",
   "execution_count": 81,
   "metadata": {},
   "outputs": [
    {
     "name": "stdout",
     "output_type": "stream",
     "text": [
      "(2, 2)\n"
     ]
    },
    {
     "data": {
      "text/plain": [
       "array([1, 1])"
      ]
     },
     "execution_count": 81,
     "metadata": {},
     "output_type": "execute_result"
    }
   ],
   "source": [
    "nearest_ind([[1,2],[5,6],[0,2]],[[4,5],[6.5,4],[6.5,9],[8.9,7]])"
   ]
  },
  {
   "cell_type": "code",
   "execution_count": null,
   "metadata": {},
   "outputs": [],
   "source": []
  },
  {
   "cell_type": "code",
   "execution_count": null,
   "metadata": {},
   "outputs": [],
   "source": []
  },
  {
   "cell_type": "code",
   "execution_count": null,
   "metadata": {},
   "outputs": [],
   "source": []
  },
  {
   "cell_type": "code",
   "execution_count": null,
   "metadata": {},
   "outputs": [],
   "source": []
  },
  {
   "cell_type": "code",
   "execution_count": null,
   "metadata": {},
   "outputs": [],
   "source": []
  },
  {
   "cell_type": "code",
   "execution_count": null,
   "metadata": {},
   "outputs": [],
   "source": []
  },
  {
   "cell_type": "code",
   "execution_count": null,
   "metadata": {},
   "outputs": [],
   "source": []
  },
  {
   "cell_type": "code",
   "execution_count": null,
   "metadata": {},
   "outputs": [],
   "source": []
  },
  {
   "cell_type": "code",
   "execution_count": 405,
   "metadata": {},
   "outputs": [
    {
     "data": {
      "image/png": "[encoded data removed]",
      "text/plain": [
       "<Figure size 432x288 with 1 Axes>"
      ]
     },
     "metadata": {
      "needs_background": "light"
     },
     "output_type": "display_data"
    }
   ],
   "source": [
    "colr={-1:'k',0:'k',1:'g',2:'c',3:'b',4:'r'}\n",
    "plt.axis('equal')\n",
    "# pol=mypoly[4]\n",
    "for pol in mypoly:\n",
    "    geom=shape(pol['geometry'])\n",
    "    col=int(pol['properties']['class'])\n",
    "    \n",
    "    plt.plot(*geom.exterior.xy,colr[col])"
   ]
  },
  {
   "cell_type": "code",
   "execution_count": 316,
   "metadata": {},
   "outputs": [
    {
     "data": {
      "text/plain": [
       "Text(0.5, 1.0, '(109, 85, 6)')"
      ]
     },
     "execution_count": 316,
     "metadata": {},
     "output_type": "execute_result"
    },
    {
     "data": {
      "image/png": "[encoded data removed]",
      "text/plain": [
       "<Figure size 720x720 with 2 Axes>"
      ]
     },
     "metadata": {
      "needs_background": "light"
     },
     "output_type": "display_data"
    }
   ],
   "source": [
    "plt.figure(figsize=(10,10))\n",
    "plt.subplot(1,2,1)\n",
    "plt.imshow(p10[:,:,[2,1,0]]/2500)\n",
    "plt.title(p10.shape)\n",
    "plt.subplot(1,2,2)\n",
    "plt.imshow(p20_res[:,:,[5,4,0]]/3000)\n",
    "plt.title(p20_res.shape)"
   ]
  },
  {
   "cell_type": "code",
   "execution_count": 203,
   "metadata": {},
   "outputs": [
    {
     "data": {
      "text/plain": [
       "(array([ 935, 3065, 3923, 4107, 1788,  815], dtype=uint16),\n",
       " array([ 935, 3065, 3923, 4107, 1788,  815], dtype=uint16))"
      ]
     },
     "execution_count": 203,
     "metadata": {},
     "output_type": "execute_result"
    }
   ],
   "source": [
    "v=np.array([1,5,2])\n",
    "scale(p20,2)[10,50,:],p20[5,25,:]"
   ]
  },
  {
   "cell_type": "code",
   "execution_count": null,
   "metadata": {},
   "outputs": [],
   "source": []
  },
  {
   "cell_type": "code",
   "execution_count": null,
   "metadata": {},
   "outputs": [],
   "source": []
  }
 ],
 "metadata": {
  "kernelspec": {
   "display_name": "Python 3",
   "language": "python",
   "name": "python3"
  },
  "language_info": {
   "codemirror_mode": {
    "name": "ipython",
    "version": 3
   },
   "file_extension": ".py",
   "mimetype": "text/x-python",
   "name": "python",
   "nbconvert_exporter": "python",
   "pygments_lexer": "ipython3",
   "version": "3.7.0"
  }
 },
 "nbformat": 4,
 "nbformat_minor": 4
}
