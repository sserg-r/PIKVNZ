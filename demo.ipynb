{
 "cells": [
  {
   "cell_type": "code",
   "execution_count": null,
   "metadata": {
    "scrolled": true
   },
   "outputs": [],
   "source": [
    "import warnings\n",
    "warnings.filterwarnings('ignore')\n",
    "from utils import patch_generator, supres_generator, Segmentation, class_generator, vectors_generator, write_to_shape\n",
    "from tqdm import tqdm\n",
    "import matplotlib.pyplot as plt\n",
    "\n",
    "tif_10m='demo/sent2020_10m_.tif'\n",
    "tif_20m='demo/sent2020_20m_.tif'\n",
    "s1tif_20m='demo/landusing18_20_1b_.tif'\n",
    "vectors=\"zip://demo/test_poly_.zip\"\n",
    "\n",
    "init_params={'tif_10m':tif_10m,'tif_20m':tif_20m,'vectors':vectors,'s1tif_20m':s1tif_20m}"
   ]
  },
  {
   "cell_type": "code",
   "execution_count": 5,
   "metadata": {},
   "outputs": [
    {
     "name": "stderr",
     "output_type": "stream",
     "text": [
      "6it [00:01,  4.36it/s]\n"
     ]
    }
   ],
   "source": [
    "# creates list of datasets (splitting singles vectors and rasters patches into appropriate units)\n",
    "nit=0\n",
    "next_item=patch_generator(init_params)\n",
    "items=[]\n",
    "for i in tqdm(next_item):\n",
    "    nit+=1\n",
    "    items.append(i)\n",
    "# items.sort(key=(lambda it: it['patch_10'].shape[1]*it['patch_10'].shape[2]))"
   ]
  },
  {
   "cell_type": "code",
   "execution_count": 6,
   "metadata": {},
   "outputs": [
    {
     "name": "stderr",
     "output_type": "stream",
     "text": [
      "100%|██████████| 6/6 [00:08<00:00,  1.35s/it]\n"
     ]
    }
   ],
   "source": [
    "# makes superresolution of rgb images\n",
    "next_super=supres_generator(items)\n",
    "super_items=[]\n",
    "for i in tqdm(range(nit)):\n",
    "    super_items.append(next(next_super))"
   ]
  },
  {
   "cell_type": "code",
   "execution_count": 8,
   "metadata": {},
   "outputs": [
    {
     "name": "stderr",
     "output_type": "stream",
     "text": [
      "100%|██████████| 6/6 [00:14<00:00,  2.47s/it]\n"
     ]
    }
   ],
   "source": [
    "# makes contour segmentation of superresoluted images\n",
    "segm_class=Segmentation(line_thresh=0.002,area_thresh=96)\n",
    "next_segment=segm_class.segm_map_generator(super_items)\n",
    "segment_items=[]\n",
    "for i in tqdm(range(nit)):\n",
    "    segment_items.append(next(next_segment))"
   ]
  },
  {
   "cell_type": "code",
   "execution_count": 9,
   "metadata": {},
   "outputs": [
    {
     "name": "stderr",
     "output_type": "stream",
     "text": [
      "100%|██████████| 6/6 [00:01<00:00,  4.81it/s]\n"
     ]
    }
   ],
   "source": [
    "# classifies segments into vegetation classes\n",
    "next_classified=class_generator(segment_items)\n",
    "classified_items=[]\n",
    "for i in tqdm(range(nit)):\n",
    "    classified_items.append(next(next_classified))"
   ]
  },
  {
   "cell_type": "code",
   "execution_count": null,
   "metadata": {},
   "outputs": [],
   "source": [
    "# vectorises segments\n",
    "next_vectorized=vectors_generator(classified_items)\n",
    "vectorized_items=[]\n",
    "for i in tqdm(range(nit)):\n",
    "    vectorized_items.append(next(next_vectorized))"
   ]
  },
  {
   "cell_type": "code",
   "execution_count": null,
   "metadata": {},
   "outputs": [],
   "source": [
    "# writes vectors to a file\n",
    "path_to_output='trash1.shp'\n",
    "write_to_shape(vectorized_items, path_to_output)"
   ]
  },
  {
   "cell_type": "code",
   "execution_count": 10,
   "metadata": {},
   "outputs": [
    {
     "data": {
      "application/vnd.jupyter.widget-view+json": {
       "model_id": "079c6ca49bda443bb74842e9167bc711",
       "version_major": 2,
       "version_minor": 0
      },
      "text/plain": [
       "interactive(children=(IntSlider(value=2, description='number', max=5), Output()), _dom_classes=('widget-intera…"
      ]
     },
     "metadata": {},
     "output_type": "display_data"
    }
   ],
   "source": [
    "# a glance at the results\n",
    "from ipywidgets import interact\n",
    "from skimage.segmentation import mark_boundaries\n",
    "\n",
    "nm= 10 if len(segment_items)>10 else len(segment_items)-1\n",
    "param_dict=segment_items[nm]\n",
    "\n",
    "@interact\n",
    "def get_by_num(number=(0,nm,1)):    \n",
    "    param_dict=segment_items[int(number)]     \n",
    "    rgb10=param_dict['rgb_10']    \n",
    "    rgb5=param_dict['rgb_5']\n",
    "    segm=mark_boundaries(rgb5, param_dict['segments_5'])   \n",
    "    cl=param_dict['classes']\n",
    "\n",
    "    fig, axs = plt.subplots(1, 4, figsize=(25, 20))    \n",
    "    for num, im in enumerate(zip(['origin 10 m', 'superresuted', 'segmented', 'classified'],[rgb10, rgb5, segm, cl])):\n",
    "        axs[num].set(title=im[0], xticks=[], yticks=[])\n",
    "        axs[num].imshow(im[1])\n",
    "    plt.show(fig)        \n",
    "        "
   ]
  },
  {
   "cell_type": "code",
   "execution_count": null,
   "metadata": {},
   "outputs": [],
   "source": []
  }
 ],
 "metadata": {
  "kernelspec": {
   "display_name": "Python 3.8.10 ('PIKVNZ-pdjKcCpR')",
   "language": "python",
   "name": "python3"
  },
  "language_info": {
   "codemirror_mode": {
    "name": "ipython",
    "version": 3
   },
   "file_extension": ".py",
   "mimetype": "text/x-python",
   "name": "python",
   "nbconvert_exporter": "python",
   "pygments_lexer": "ipython3",
   "version": "3.8.10"
  },
  "vscode": {
   "interpreter": {
    "hash": "5ccac2646d1aad1f7cbe2bf34d40316201525f8c1abcf44b2c2486e8f0cbb9ca"
   }
  }
 },
 "nbformat": 4,
 "nbformat_minor": 4
}
