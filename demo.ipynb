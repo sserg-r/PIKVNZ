{
 "cells": [
  {
   "cell_type": "code",
   "execution_count": 1,
   "metadata": {},
   "outputs": [],
   "source": [
    "import warnings\n",
    "warnings.filterwarnings('ignore')\n",
    "import matplotlib.pyplot as plt\n",
    "from utils import patch_generator, supres_generator, Segmentation, class_generator, vectors_generator, write_to_shape\n",
    "from tqdm import tqdm\n",
    "# import copy\n",
    "\n",
    "tif_10m='demo/sent2020_10m.tif'\n",
    "tif_20m='demo/sent2020_20m.tif'\n",
    "s1tif_20m='demo/landusing18_20_1b.tif'\n",
    "# vectors=\"zip:///home/sgr/Загрузки/test_poly.zip\"\n",
    "vectors=\"zip://demo/test_poly.zip\"\n",
    "# vectors=\"zip://demo/working_areas32635.zip\"\n",
    "\n",
    "init_params={'tif_10m':tif_10m,'tif_20m':tif_20m,'vectors':vectors,'s1tif_20m':s1tif_20m}"
   ]
  },
  {
   "cell_type": "code",
   "execution_count": 2,
   "metadata": {},
   "outputs": [
    {
     "name": "stderr",
     "output_type": "stream",
     "text": [
      "14it [00:02,  5.18it/s]\n"
     ]
    }
   ],
   "source": [
    "# creates list of datasets (splitting singles vectors and rasters patches into appropriate units)\n",
    "nit=0\n",
    "next_item=patch_generator(init_params)\n",
    "items=[]\n",
    "for i in tqdm(next_item):\n",
    "    nit+=1\n",
    "    items.append(i)\n",
    "# items.sort(key=(lambda it: it['patch_10'].shape[1]*it['patch_10'].shape[2]))"
   ]
  },
  {
   "cell_type": "code",
   "execution_count": null,
   "metadata": {},
   "outputs": [],
   "source": [
    "# makes superresolution of rgb images\n",
    "next_super=supres_generator(items)\n",
    "super_items=[]\n",
    "for i in tqdm(range(nit)):\n",
    "    super_items.append(next(next_super))"
   ]
  },
  {
   "cell_type": "code",
   "execution_count": 4,
   "metadata": {},
   "outputs": [
    {
     "name": "stderr",
     "output_type": "stream",
     "text": [
      "100%|██████████| 14/14 [00:40<00:00,  2.92s/it]\n"
     ]
    }
   ],
   "source": [
    "# makes contour segmentation of superresoluted images\n",
    "segm_class=Segmentation(line_thresh=0.002,area_thresh=96)\n",
    "next_segment=segm_class.segm_map_generator(super_items)\n",
    "segment_items=[]\n",
    "for i in tqdm(range(nit)):\n",
    "    segment_items.append(next(next_segment))"
   ]
  },
  {
   "cell_type": "code",
   "execution_count": 5,
   "metadata": {},
   "outputs": [
    {
     "name": "stderr",
     "output_type": "stream",
     "text": [
      "100%|██████████| 14/14 [00:02<00:00,  5.12it/s]\n"
     ]
    }
   ],
   "source": [
    "# classifies segments into vegetation classes\n",
    "next_classified=class_generator(segment_items)\n",
    "classified_items=[]\n",
    "for i in tqdm(range(nit)):\n",
    "    classified_items.append(next(next_classified))"
   ]
  },
  {
   "cell_type": "code",
   "execution_count": 6,
   "metadata": {},
   "outputs": [
    {
     "name": "stderr",
     "output_type": "stream",
     "text": [
      "100%|██████████| 14/14 [00:05<00:00,  2.42it/s]\n"
     ]
    }
   ],
   "source": [
    "# vectorises segments\n",
    "next_vectorized=vectors_generator(classified_items)\n",
    "vectorized_items=[]\n",
    "for i in tqdm(range(nit)):\n",
    "    vectorized_items.append(next(next_vectorized))"
   ]
  },
  {
   "cell_type": "code",
   "execution_count": 7,
   "metadata": {},
   "outputs": [],
   "source": [
    "# writes vectors to a file\n",
    "write_to_shape(vectorized_items, 'trash1.shp')"
   ]
  },
  {
   "cell_type": "code",
   "execution_count": null,
   "metadata": {},
   "outputs": [],
   "source": [
    "# segm_class=Segmentation(line_thresh=0.02,area_thresh=16)\n",
    "# segm_class=Segmentation(line_thresh=0.005,area_thresh=48)\n",
    "segm_class=Segmentation(line_thresh=0.002,area_thresh=96)\n",
    "next_segment=segm_class.segm_map_generator(super_items)\n",
    "segment_items=[]\n",
    "for i in range(14):\n",
    "    segment_items.append(next(next_segment))"
   ]
  },
  {
   "cell_type": "code",
   "execution_count": 8,
   "metadata": {},
   "outputs": [],
   "source": [
    "from skimage.segmentation import mark_boundaries"
   ]
  },
  {
   "cell_type": "code",
   "execution_count": 9,
   "metadata": {},
   "outputs": [
    {
     "name": "stdout",
     "output_type": "stream",
     "text": [
      "[4]\n"
     ]
    }
   ],
   "source": [
    "import pickle\n",
    "rf_model_path='./model/RF_model.pkl'\n",
    "with open(rf_model_path, 'rb') as f:\n",
    "    clf=pickle.load(f)\n",
    "    print(clf.predict([[0,0,10,30,20,40,80,60,80,100]]))"
   ]
  },
  {
   "cell_type": "code",
   "execution_count": 13,
   "metadata": {
    "collapsed": true,
    "jupyter": {
     "outputs_hidden": true,
     "source_hidden": true
    }
   },
   "outputs": [
    {
     "data": {
      "application/vnd.jupyter.widget-view+json": {
       "model_id": "81e9594780ff4c66bba36e894f7c7462",
       "version_major": 2,
       "version_minor": 0
      },
      "text/plain": [
       "interactive(children=(IntSlider(value=2, description='numb', max=5), Output()), _dom_classes=('widget-interact…"
      ]
     },
     "metadata": {},
     "output_type": "display_data"
    }
   ],
   "source": [
    "import numpy as np\n",
    "import scipy\n",
    "nm= 10 if len(segment_items)>10 else len(segment_items)-1\n",
    "param_dict=segment_items[nm]\n",
    "\n",
    "def simple_rescale(im, scf=2):\n",
    "    import numpy as np\n",
    "    row,col=im.shape[0],im.shape[1]\n",
    "    return np.array([[im[int(r/scf)][int(c/scf)] for c in range(col*scf)] for r in range(row*scf)])\n",
    "\n",
    "import ipywidgets as widgets\n",
    "from ipywidgets import interact, interact_manual\n",
    "@interact\n",
    "def get_by_num(numb=(0,len(segment_items)-1,1)):#numb=range(14)):\n",
    "    \n",
    "    nm=int(numb)\n",
    "    param_dict=segment_items[nm]\n",
    "    segm=param_dict['segments_5']\n",
    "    transf_10=param_dict['transf_10']\n",
    "    transf_20=param_dict['transf_20']\n",
    "    patch_10=np.rollaxis(param_dict['patch_10'],0,3)\n",
    "    patch_20=np.rollaxis(param_dict['patch_20'],0,3)\n",
    "    patchs1_20=param_dict['patchs1_20']\n",
    "\n",
    "\n",
    "    x10,y10,_=patch_10.shape\n",
    "    y_sh,x_sh=np.abs(np.array([transf_10,transf_20]).T.dot(np.array([-1,1]))[[2,5]]/10).astype(int)\n",
    "    patch_20to10=simple_rescale(patch_20)[x_sh:x_sh+x10,y_sh:y_sh+y10,:]\n",
    "    feat_image=simple_rescale(np.concatenate((patch_10, patch_20to10), axis=2))\n",
    "\n",
    "\n",
    "    patchs1_20to10=simple_rescale(patchs1_20)[x_sh:x_sh+x10,y_sh:y_sh+y10]\n",
    "    patchs1_5=simple_rescale(patchs1_20to10)    #sent1 5m patch\n",
    "\n",
    "    remap={}\n",
    "    for index in np.unique(segm.ravel()):\n",
    "        if index==0: continue        \n",
    "        nm_pix=len(segm[segm==index])//4\n",
    "    #     nm_samples=np.ceil((np.log(nm_pix)/np.log(2))**1.6).astype(int) \n",
    "        nm_samples=nm_pix\n",
    "\n",
    "        id_choises=np.random.choice(range(nm_pix),nm_samples,replace=False)    \n",
    "#         is_candidate=(patchs1_5[segm==index].mean()+0.71).astype(int)\n",
    "        is_candidate=(patchs1_5[segm==index].mean()+0.51).astype(int)\n",
    "    #     is_candidate=(patchs1_5[segm==index][id_choises].mean()+0.6).astype(int)\n",
    "        if not is_candidate:\n",
    "            remap[index]=0\n",
    "            continue   \n",
    "\n",
    "    #     featured_items=feat_image[segm==index][id_choises]\n",
    "        featured_items=feat_image[segm==index]\n",
    "        cl=scipy.stats.mode(sorted(clf.predict(featured_items))).mode[0]\n",
    "        remap[index]=cl\n",
    "    src, values = remap.keys(), remap.values()\n",
    "    d_array = np.arange(segm.max() + 1)\n",
    "    d_array[list(src)] = list(values)\n",
    "    class_image=d_array[segm]  \n",
    "\n",
    "    from matplotlib.colors import LinearSegmentedColormap\n",
    "    colors = [(0, 0, 0), (0.5,0.5,0.5), (0.5, 0, 0),(0, 0.5, 0), (0, 0, 0.5)]  # R -> G -> B\n",
    "    n_bins = 5  # Discretizes the interpolation into bins\n",
    "    cmap_name = 'my_list'\n",
    "    cm = LinearSegmentedColormap.from_list(cmap_name, colors, N=n_bins)\n",
    "\n",
    "\n",
    "\n",
    "    plt.figure(figsize=(25,20))\n",
    "    plt.subplot(1,3,1)\n",
    "    plt.imshow(mark_boundaries(param_dict['rgb_5'], segm))\n",
    "    plt.subplot(1,3,2)\n",
    "    class_image[segm==0]=-1\n",
    "    class_image[0,0]=1\n",
    "    class_image[0,0]=2\n",
    "    class_image[0,0]=3\n",
    "    class_image[0,0]=4      \n",
    "    \n",
    "    plt.imshow(class_image,cmap=cm)    \n",
    "    print(np.unique(class_image,return_counts=True))\n",
    "    plt.subplot(1,3,3)\n",
    "    x,y,b=feat_image.shape\n",
    "    pix_cl_masked=clf.predict(feat_image.reshape((x*y,b))).reshape((x,y))*(patchs1_5!=0)*(segm!=0)\n",
    "    pix_cl_masked[segm==0]=-1\n",
    "    \n",
    "    pix_cl_masked[0,0]=1\n",
    "    pix_cl_masked[0,0]=2\n",
    "    pix_cl_masked[0,0]=3\n",
    "    pix_cl_masked[0,0]=4    \n",
    "    plt.imshow(pix_cl_masked,cmap=cm)\n",
    "    \n",
    "    \n",
    "    \n",
    "    \n",
    "    \n",
    "    \n",
    "    return class_image\n",
    "\n"
   ]
  }
 ],
 "metadata": {
  "kernelspec": {
   "display_name": "Python 3.8.10 ('TENSORTRASH-c7QKLjHM')",
   "language": "python",
   "name": "python3"
  },
  "language_info": {
   "codemirror_mode": {
    "name": "ipython",
    "version": 3
   },
   "file_extension": ".py",
   "mimetype": "text/x-python",
   "name": "python",
   "nbconvert_exporter": "python",
   "pygments_lexer": "ipython3",
   "version": "3.8.10"
  },
  "vscode": {
   "interpreter": {
    "hash": "912201f51342623250c0a9b618fc83072c92fd3fbc6f3a43fab9439862b1273b"
   }
  }
 },
 "nbformat": 4,
 "nbformat_minor": 4
}
